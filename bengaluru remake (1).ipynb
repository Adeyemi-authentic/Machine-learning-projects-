{
 "cells": [
  {
   "cell_type": "code",
   "execution_count": 1,
   "id": "7feec8ac-7e1b-4147-8e67-8884b181eb4a",
   "metadata": {},
   "outputs": [],
   "source": [
    "import pandas as pd\n",
    "import numpy as np\n",
    "import matplotlib.pyplot as plt\n",
    "%matplotlib inline"
   ]
  },
  {
   "cell_type": "code",
   "execution_count": 2,
   "id": "72d84f08-5eb4-4b64-b4d1-59075c4acc44",
   "metadata": {},
   "outputs": [
    {
     "data": {
      "text/html": [
       "<div>\n",
       "<style scoped>\n",
       "    .dataframe tbody tr th:only-of-type {\n",
       "        vertical-align: middle;\n",
       "    }\n",
       "\n",
       "    .dataframe tbody tr th {\n",
       "        vertical-align: top;\n",
       "    }\n",
       "\n",
       "    .dataframe thead th {\n",
       "        text-align: right;\n",
       "    }\n",
       "</style>\n",
       "<table border=\"1\" class=\"dataframe\">\n",
       "  <thead>\n",
       "    <tr style=\"text-align: right;\">\n",
       "      <th></th>\n",
       "      <th>area_type</th>\n",
       "      <th>availability</th>\n",
       "      <th>location</th>\n",
       "      <th>size</th>\n",
       "      <th>society</th>\n",
       "      <th>total_sqft</th>\n",
       "      <th>bath</th>\n",
       "      <th>balcony</th>\n",
       "      <th>price</th>\n",
       "    </tr>\n",
       "  </thead>\n",
       "  <tbody>\n",
       "    <tr>\n",
       "      <th>0</th>\n",
       "      <td>Super built-up  Area</td>\n",
       "      <td>19-Dec</td>\n",
       "      <td>Electronic City Phase II</td>\n",
       "      <td>2 BHK</td>\n",
       "      <td>Coomee</td>\n",
       "      <td>1056</td>\n",
       "      <td>2.0</td>\n",
       "      <td>1.0</td>\n",
       "      <td>39.07</td>\n",
       "    </tr>\n",
       "    <tr>\n",
       "      <th>1</th>\n",
       "      <td>Plot  Area</td>\n",
       "      <td>Ready To Move</td>\n",
       "      <td>Chikka Tirupathi</td>\n",
       "      <td>4 Bedroom</td>\n",
       "      <td>Theanmp</td>\n",
       "      <td>2600</td>\n",
       "      <td>5.0</td>\n",
       "      <td>3.0</td>\n",
       "      <td>120.00</td>\n",
       "    </tr>\n",
       "    <tr>\n",
       "      <th>2</th>\n",
       "      <td>Built-up  Area</td>\n",
       "      <td>Ready To Move</td>\n",
       "      <td>Uttarahalli</td>\n",
       "      <td>3 BHK</td>\n",
       "      <td>NaN</td>\n",
       "      <td>1440</td>\n",
       "      <td>2.0</td>\n",
       "      <td>3.0</td>\n",
       "      <td>62.00</td>\n",
       "    </tr>\n",
       "    <tr>\n",
       "      <th>3</th>\n",
       "      <td>Super built-up  Area</td>\n",
       "      <td>Ready To Move</td>\n",
       "      <td>Lingadheeranahalli</td>\n",
       "      <td>3 BHK</td>\n",
       "      <td>Soiewre</td>\n",
       "      <td>1521</td>\n",
       "      <td>3.0</td>\n",
       "      <td>1.0</td>\n",
       "      <td>95.00</td>\n",
       "    </tr>\n",
       "    <tr>\n",
       "      <th>4</th>\n",
       "      <td>Super built-up  Area</td>\n",
       "      <td>Ready To Move</td>\n",
       "      <td>Kothanur</td>\n",
       "      <td>2 BHK</td>\n",
       "      <td>NaN</td>\n",
       "      <td>1200</td>\n",
       "      <td>2.0</td>\n",
       "      <td>1.0</td>\n",
       "      <td>51.00</td>\n",
       "    </tr>\n",
       "  </tbody>\n",
       "</table>\n",
       "</div>"
      ],
      "text/plain": [
       "              area_type   availability                  location       size  \\\n",
       "0  Super built-up  Area         19-Dec  Electronic City Phase II      2 BHK   \n",
       "1            Plot  Area  Ready To Move          Chikka Tirupathi  4 Bedroom   \n",
       "2        Built-up  Area  Ready To Move               Uttarahalli      3 BHK   \n",
       "3  Super built-up  Area  Ready To Move        Lingadheeranahalli      3 BHK   \n",
       "4  Super built-up  Area  Ready To Move                  Kothanur      2 BHK   \n",
       "\n",
       "   society total_sqft  bath  balcony   price  \n",
       "0  Coomee        1056   2.0      1.0   39.07  \n",
       "1  Theanmp       2600   5.0      3.0  120.00  \n",
       "2      NaN       1440   2.0      3.0   62.00  \n",
       "3  Soiewre       1521   3.0      1.0   95.00  \n",
       "4      NaN       1200   2.0      1.0   51.00  "
      ]
     },
     "execution_count": 2,
     "metadata": {},
     "output_type": "execute_result"
    }
   ],
   "source": [
    "data=pd.read_csv(r\"C:\\Users\\USER\\Downloads\\Bengaluru_House_Data (1).csv\")\n",
    "data.head()"
   ]
  },
  {
   "cell_type": "code",
   "execution_count": 3,
   "id": "a606515a-88ce-4e21-a891-5b1e8512e63c",
   "metadata": {},
   "outputs": [],
   "source": [
    "columns_needed=['area_type','location','size','total_sqft','price','bath']\n",
    "\n",
    "data= data.drop([x for x in data.columns if x not in columns_needed],axis=1)"
   ]
  },
  {
   "cell_type": "code",
   "execution_count": 4,
   "id": "9ca15879-dbd7-4fed-b43e-dab99c165c4f",
   "metadata": {},
   "outputs": [
    {
     "data": {
      "text/html": [
       "<div>\n",
       "<style scoped>\n",
       "    .dataframe tbody tr th:only-of-type {\n",
       "        vertical-align: middle;\n",
       "    }\n",
       "\n",
       "    .dataframe tbody tr th {\n",
       "        vertical-align: top;\n",
       "    }\n",
       "\n",
       "    .dataframe thead th {\n",
       "        text-align: right;\n",
       "    }\n",
       "</style>\n",
       "<table border=\"1\" class=\"dataframe\">\n",
       "  <thead>\n",
       "    <tr style=\"text-align: right;\">\n",
       "      <th></th>\n",
       "      <th>area_type</th>\n",
       "      <th>location</th>\n",
       "      <th>size</th>\n",
       "      <th>total_sqft</th>\n",
       "      <th>bath</th>\n",
       "      <th>price</th>\n",
       "    </tr>\n",
       "  </thead>\n",
       "  <tbody>\n",
       "    <tr>\n",
       "      <th>0</th>\n",
       "      <td>Super built-up  Area</td>\n",
       "      <td>Electronic City Phase II</td>\n",
       "      <td>2 BHK</td>\n",
       "      <td>1056</td>\n",
       "      <td>2.0</td>\n",
       "      <td>39.07</td>\n",
       "    </tr>\n",
       "    <tr>\n",
       "      <th>1</th>\n",
       "      <td>Plot  Area</td>\n",
       "      <td>Chikka Tirupathi</td>\n",
       "      <td>4 Bedroom</td>\n",
       "      <td>2600</td>\n",
       "      <td>5.0</td>\n",
       "      <td>120.00</td>\n",
       "    </tr>\n",
       "    <tr>\n",
       "      <th>2</th>\n",
       "      <td>Built-up  Area</td>\n",
       "      <td>Uttarahalli</td>\n",
       "      <td>3 BHK</td>\n",
       "      <td>1440</td>\n",
       "      <td>2.0</td>\n",
       "      <td>62.00</td>\n",
       "    </tr>\n",
       "    <tr>\n",
       "      <th>3</th>\n",
       "      <td>Super built-up  Area</td>\n",
       "      <td>Lingadheeranahalli</td>\n",
       "      <td>3 BHK</td>\n",
       "      <td>1521</td>\n",
       "      <td>3.0</td>\n",
       "      <td>95.00</td>\n",
       "    </tr>\n",
       "    <tr>\n",
       "      <th>4</th>\n",
       "      <td>Super built-up  Area</td>\n",
       "      <td>Kothanur</td>\n",
       "      <td>2 BHK</td>\n",
       "      <td>1200</td>\n",
       "      <td>2.0</td>\n",
       "      <td>51.00</td>\n",
       "    </tr>\n",
       "  </tbody>\n",
       "</table>\n",
       "</div>"
      ],
      "text/plain": [
       "              area_type                  location       size total_sqft  bath  \\\n",
       "0  Super built-up  Area  Electronic City Phase II      2 BHK       1056   2.0   \n",
       "1            Plot  Area          Chikka Tirupathi  4 Bedroom       2600   5.0   \n",
       "2        Built-up  Area               Uttarahalli      3 BHK       1440   2.0   \n",
       "3  Super built-up  Area        Lingadheeranahalli      3 BHK       1521   3.0   \n",
       "4  Super built-up  Area                  Kothanur      2 BHK       1200   2.0   \n",
       "\n",
       "    price  \n",
       "0   39.07  \n",
       "1  120.00  \n",
       "2   62.00  \n",
       "3   95.00  \n",
       "4   51.00  "
      ]
     },
     "execution_count": 4,
     "metadata": {},
     "output_type": "execute_result"
    }
   ],
   "source": [
    "data.head()"
   ]
  },
  {
   "cell_type": "code",
   "execution_count": 5,
   "id": "c9a28c9a-7169-45c7-be66-f6d1da9d0036",
   "metadata": {},
   "outputs": [],
   "source": [
    "data.drop_duplicates(inplace=True)"
   ]
  },
  {
   "cell_type": "code",
   "execution_count": 6,
   "id": "8435f0cb-167e-4867-8e40-add9cc08d537",
   "metadata": {},
   "outputs": [
    {
     "data": {
      "text/plain": [
       "0"
      ]
     },
     "execution_count": 6,
     "metadata": {},
     "output_type": "execute_result"
    }
   ],
   "source": [
    "data.duplicated().any().sum()"
   ]
  },
  {
   "cell_type": "code",
   "execution_count": 7,
   "id": "df3f8147-b79e-4063-b111-19066450ed82",
   "metadata": {},
   "outputs": [
    {
     "data": {
      "text/plain": [
       "area_type      0\n",
       "location       1\n",
       "size          10\n",
       "total_sqft     0\n",
       "bath          50\n",
       "price          0\n",
       "dtype: int64"
      ]
     },
     "execution_count": 7,
     "metadata": {},
     "output_type": "execute_result"
    }
   ],
   "source": [
    "data.isnull().sum()"
   ]
  },
  {
   "cell_type": "code",
   "execution_count": 8,
   "id": "14358ca0-259d-4ff7-b1ba-92a35c9c1d4b",
   "metadata": {},
   "outputs": [],
   "source": [
    "data.dropna(inplace=True)"
   ]
  },
  {
   "cell_type": "code",
   "execution_count": 9,
   "id": "b07d0925-b0cd-4645-bdfa-405a3feebd87",
   "metadata": {},
   "outputs": [
    {
     "data": {
      "text/plain": [
       "area_type     0\n",
       "location      0\n",
       "size          0\n",
       "total_sqft    0\n",
       "bath          0\n",
       "price         0\n",
       "dtype: int64"
      ]
     },
     "execution_count": 9,
     "metadata": {},
     "output_type": "execute_result"
    }
   ],
   "source": [
    "data.isna().sum()"
   ]
  },
  {
   "cell_type": "code",
   "execution_count": 10,
   "id": "0b96c728-7703-4f1b-ab1e-3ce48b9a0080",
   "metadata": {},
   "outputs": [
    {
     "data": {
      "text/plain": [
       "0"
      ]
     },
     "execution_count": 10,
     "metadata": {},
     "output_type": "execute_result"
    }
   ],
   "source": [
    "data.isna().any().sum()"
   ]
  },
  {
   "cell_type": "code",
   "execution_count": 11,
   "id": "1d53108a-5174-4f2e-b63e-7585cdd6dbac",
   "metadata": {},
   "outputs": [],
   "source": [
    "data['bhk']=data['size'].apply(lambda x: int(x.split(' ')[0]))"
   ]
  },
  {
   "cell_type": "code",
   "execution_count": 12,
   "id": "0b555520-b059-4967-b1e7-a3cbf6e66af0",
   "metadata": {},
   "outputs": [
    {
     "data": {
      "text/plain": [
       "0"
      ]
     },
     "execution_count": 12,
     "metadata": {},
     "output_type": "execute_result"
    }
   ],
   "source": [
    "data['bhk'].isnull().sum()"
   ]
  },
  {
   "cell_type": "code",
   "execution_count": 13,
   "id": "e5cf9a12-d0eb-46b6-a41b-441ba9820dff",
   "metadata": {},
   "outputs": [
    {
     "data": {
      "text/html": [
       "<div>\n",
       "<style scoped>\n",
       "    .dataframe tbody tr th:only-of-type {\n",
       "        vertical-align: middle;\n",
       "    }\n",
       "\n",
       "    .dataframe tbody tr th {\n",
       "        vertical-align: top;\n",
       "    }\n",
       "\n",
       "    .dataframe thead th {\n",
       "        text-align: right;\n",
       "    }\n",
       "</style>\n",
       "<table border=\"1\" class=\"dataframe\">\n",
       "  <thead>\n",
       "    <tr style=\"text-align: right;\">\n",
       "      <th></th>\n",
       "      <th>area_type</th>\n",
       "      <th>location</th>\n",
       "      <th>size</th>\n",
       "      <th>total_sqft</th>\n",
       "      <th>bath</th>\n",
       "      <th>price</th>\n",
       "      <th>bhk</th>\n",
       "    </tr>\n",
       "  </thead>\n",
       "  <tbody>\n",
       "    <tr>\n",
       "      <th>0</th>\n",
       "      <td>Super built-up  Area</td>\n",
       "      <td>Electronic City Phase II</td>\n",
       "      <td>2 BHK</td>\n",
       "      <td>1056</td>\n",
       "      <td>2.0</td>\n",
       "      <td>39.07</td>\n",
       "      <td>2</td>\n",
       "    </tr>\n",
       "    <tr>\n",
       "      <th>1</th>\n",
       "      <td>Plot  Area</td>\n",
       "      <td>Chikka Tirupathi</td>\n",
       "      <td>4 Bedroom</td>\n",
       "      <td>2600</td>\n",
       "      <td>5.0</td>\n",
       "      <td>120.00</td>\n",
       "      <td>4</td>\n",
       "    </tr>\n",
       "    <tr>\n",
       "      <th>2</th>\n",
       "      <td>Built-up  Area</td>\n",
       "      <td>Uttarahalli</td>\n",
       "      <td>3 BHK</td>\n",
       "      <td>1440</td>\n",
       "      <td>2.0</td>\n",
       "      <td>62.00</td>\n",
       "      <td>3</td>\n",
       "    </tr>\n",
       "    <tr>\n",
       "      <th>3</th>\n",
       "      <td>Super built-up  Area</td>\n",
       "      <td>Lingadheeranahalli</td>\n",
       "      <td>3 BHK</td>\n",
       "      <td>1521</td>\n",
       "      <td>3.0</td>\n",
       "      <td>95.00</td>\n",
       "      <td>3</td>\n",
       "    </tr>\n",
       "    <tr>\n",
       "      <th>4</th>\n",
       "      <td>Super built-up  Area</td>\n",
       "      <td>Kothanur</td>\n",
       "      <td>2 BHK</td>\n",
       "      <td>1200</td>\n",
       "      <td>2.0</td>\n",
       "      <td>51.00</td>\n",
       "      <td>2</td>\n",
       "    </tr>\n",
       "  </tbody>\n",
       "</table>\n",
       "</div>"
      ],
      "text/plain": [
       "              area_type                  location       size total_sqft  bath  \\\n",
       "0  Super built-up  Area  Electronic City Phase II      2 BHK       1056   2.0   \n",
       "1            Plot  Area          Chikka Tirupathi  4 Bedroom       2600   5.0   \n",
       "2        Built-up  Area               Uttarahalli      3 BHK       1440   2.0   \n",
       "3  Super built-up  Area        Lingadheeranahalli      3 BHK       1521   3.0   \n",
       "4  Super built-up  Area                  Kothanur      2 BHK       1200   2.0   \n",
       "\n",
       "    price  bhk  \n",
       "0   39.07    2  \n",
       "1  120.00    4  \n",
       "2   62.00    3  \n",
       "3   95.00    3  \n",
       "4   51.00    2  "
      ]
     },
     "execution_count": 13,
     "metadata": {},
     "output_type": "execute_result"
    }
   ],
   "source": [
    "data.head()"
   ]
  },
  {
   "cell_type": "code",
   "execution_count": 14,
   "id": "845e15ca-cdb7-4d5f-8277-2447709c4bc7",
   "metadata": {},
   "outputs": [],
   "source": [
    "def convert_sqft_to_number(x):\n",
    "    token = x.split('-')\n",
    "    if len(token) == 2:\n",
    "        return (float(token[0]) + float(token[1])) / 2\n",
    "    try:\n",
    "        return float(x)\n",
    "    except:\n",
    "        return None"
   ]
  },
  {
   "cell_type": "code",
   "execution_count": 15,
   "id": "5a973a4b-d331-4569-bb0e-2ba353b326fe",
   "metadata": {},
   "outputs": [
    {
     "data": {
      "text/plain": [
       "array(['1056', '2600', '1440', ..., '7800', '1962', '1894'], dtype=object)"
      ]
     },
     "execution_count": 15,
     "metadata": {},
     "output_type": "execute_result"
    }
   ],
   "source": [
    "data.total_sqft.unique()"
   ]
  },
  {
   "cell_type": "code",
   "execution_count": 16,
   "id": "1a608bc1-da86-4fdb-9730-0a17c5eb5d19",
   "metadata": {},
   "outputs": [
    {
     "name": "stdout",
     "output_type": "stream",
     "text": [
      "1258.5\n"
     ]
    }
   ],
   "source": [
    "result = convert_sqft_to_number(\"1133 - 1384\")\n",
    "print(result)  # This should give you the average of 1133 and 1384"
   ]
  },
  {
   "cell_type": "code",
   "execution_count": 17,
   "id": "2f342c63-d97f-4234-bbcd-aee01d26e7b1",
   "metadata": {},
   "outputs": [],
   "source": [
    "data['total_sqft']=data['total_sqft'].apply(convert_sqft_to_number)"
   ]
  },
  {
   "cell_type": "code",
   "execution_count": 18,
   "id": "84c92c7e-0fef-4466-adc8-7cc99e9eabef",
   "metadata": {},
   "outputs": [
    {
     "data": {
      "text/plain": [
       "array([1056., 2600., 1440., ..., 7800., 1962., 1894.])"
      ]
     },
     "execution_count": 18,
     "metadata": {},
     "output_type": "execute_result"
    }
   ],
   "source": [
    "data.total_sqft.unique()"
   ]
  },
  {
   "cell_type": "code",
   "execution_count": 19,
   "id": "125e24c3-0798-4946-8e96-1db03bcade24",
   "metadata": {},
   "outputs": [
    {
     "data": {
      "text/plain": [
       "location\n",
       " Anekal                 1\n",
       " Basavangudi            1\n",
       " Bhoganhalli            1\n",
       " Devarabeesana Halli    5\n",
       " Devarachikkanahalli    9\n",
       "                       ..\n",
       "singapura paradise      1\n",
       "t.c palya               1\n",
       "tc.palya                2\n",
       "white field,kadugodi    1\n",
       "whitefiled              1\n",
       "Name: location, Length: 1077, dtype: int64"
      ]
     },
     "execution_count": 19,
     "metadata": {},
     "output_type": "execute_result"
    }
   ],
   "source": [
    "lctn_stat=data.groupby('location')['location'].agg('count')\n",
    "lctn_stat"
   ]
  },
  {
   "cell_type": "code",
   "execution_count": 20,
   "id": "24bed7a2-6d8e-47b4-89a5-e7b87c011ff3",
   "metadata": {},
   "outputs": [
    {
     "name": "stdout",
     "output_type": "stream",
     "text": [
      "<class 'pandas.core.frame.DataFrame'>\n",
      "Index: 7639 entries, 0 to 8015\n",
      "Data columns (total 7 columns):\n",
      " #   Column      Non-Null Count  Dtype  \n",
      "---  ------      --------------  -----  \n",
      " 0   area_type   7639 non-null   object \n",
      " 1   location    7639 non-null   object \n",
      " 2   size        7639 non-null   object \n",
      " 3   total_sqft  7605 non-null   float64\n",
      " 4   bath        7639 non-null   float64\n",
      " 5   price       7639 non-null   float64\n",
      " 6   bhk         7639 non-null   int64  \n",
      "dtypes: float64(3), int64(1), object(3)\n",
      "memory usage: 477.4+ KB\n"
     ]
    }
   ],
   "source": [
    "data.info()"
   ]
  },
  {
   "cell_type": "code",
   "execution_count": 21,
   "id": "d92b7119-da91-4c8e-931d-084f3fd834fc",
   "metadata": {},
   "outputs": [
    {
     "data": {
      "text/plain": [
       "area_type      0\n",
       "location       0\n",
       "size           0\n",
       "total_sqft    34\n",
       "bath           0\n",
       "price          0\n",
       "bhk            0\n",
       "dtype: int64"
      ]
     },
     "execution_count": 21,
     "metadata": {},
     "output_type": "execute_result"
    }
   ],
   "source": [
    "data.isna().sum()"
   ]
  },
  {
   "cell_type": "code",
   "execution_count": 22,
   "id": "d7513f13-a273-4dac-9d25-a7db61b4c0a9",
   "metadata": {},
   "outputs": [],
   "source": [
    "data.dropna(inplace=True)"
   ]
  },
  {
   "cell_type": "code",
   "execution_count": 23,
   "id": "8f75631d-5a1a-47ed-a829-ea625f0a7e87",
   "metadata": {},
   "outputs": [
    {
     "data": {
      "text/plain": [
       "area_type     0\n",
       "location      0\n",
       "size          0\n",
       "total_sqft    0\n",
       "bath          0\n",
       "price         0\n",
       "bhk           0\n",
       "dtype: int64"
      ]
     },
     "execution_count": 23,
     "metadata": {},
     "output_type": "execute_result"
    }
   ],
   "source": [
    "data.isna().sum()"
   ]
  },
  {
   "cell_type": "code",
   "execution_count": 24,
   "id": "317b4b0f-b70f-41c0-b8ff-9588fc6ae7d5",
   "metadata": {},
   "outputs": [
    {
     "data": {
      "text/plain": [
       "location\n",
       " Anekal                 1\n",
       " Basavangudi            1\n",
       " Bhoganhalli            1\n",
       " Devarabeesana Halli    5\n",
       " Devarachikkanahalli    9\n",
       "                       ..\n",
       "singapura paradise      1\n",
       "t.c palya               1\n",
       "tc.palya                2\n",
       "white field,kadugodi    1\n",
       "whitefiled              1\n",
       "Name: location, Length: 920, dtype: int64"
      ]
     },
     "execution_count": 24,
     "metadata": {},
     "output_type": "execute_result"
    }
   ],
   "source": [
    "#we have to group the locations that are less than  10 as others\n",
    "lctn_lessthan10=lctn_stat[lctn_stat<=10]\n",
    "lctn_lessthan10"
   ]
  },
  {
   "cell_type": "code",
   "execution_count": 25,
   "id": "4b3d8b20-1007-4c43-83bc-7cd5b3fbbf45",
   "metadata": {},
   "outputs": [],
   "source": [
    "data.location=data.location.apply(lambda x: 'other' if x in lctn_lessthan10 else x)"
   ]
  },
  {
   "cell_type": "code",
   "execution_count": 26,
   "id": "9c4d28b4-aa7e-4a8d-bc62-f54ee352f906",
   "metadata": {},
   "outputs": [
    {
     "data": {
      "text/plain": [
       "count     7605.000000\n",
       "mean      1568.312260\n",
       "std       1388.537615\n",
       "min          1.000000\n",
       "25%       1100.000000\n",
       "50%       1280.000000\n",
       "75%       1678.000000\n",
       "max      52272.000000\n",
       "Name: total_sqft, dtype: float64"
      ]
     },
     "execution_count": 26,
     "metadata": {},
     "output_type": "execute_result"
    }
   ],
   "source": [
    "data['total_sqft'].describe()"
   ]
  },
  {
   "cell_type": "code",
   "execution_count": 27,
   "id": "a1de9082-1715-4415-8d77-b0a12fc2108f",
   "metadata": {},
   "outputs": [],
   "source": [
    "def cnvrt(x):\n",
    "    rs = x / 3\n",
    "    if x > 2000:\n",
    "        return float(rs)\n",
    "    else:\n",
    "        return float(x)\n"
   ]
  },
  {
   "cell_type": "code",
   "execution_count": 28,
   "id": "843fcab6-59dd-4d46-8a37-e563be817998",
   "metadata": {},
   "outputs": [],
   "source": [
    "data2=data.copy()"
   ]
  },
  {
   "cell_type": "code",
   "execution_count": 29,
   "id": "dabef2e9-c6f9-4e1a-9677-ab594ae032d1",
   "metadata": {},
   "outputs": [
    {
     "data": {
      "text/plain": [
       "count     7605.000000\n",
       "mean      1568.312260\n",
       "std       1388.537615\n",
       "min          1.000000\n",
       "25%       1100.000000\n",
       "50%       1280.000000\n",
       "75%       1678.000000\n",
       "max      52272.000000\n",
       "Name: total_sqft, dtype: float64"
      ]
     },
     "execution_count": 29,
     "metadata": {},
     "output_type": "execute_result"
    }
   ],
   "source": [
    "data2['total_sqft'].describe()"
   ]
  },
  {
   "cell_type": "code",
   "execution_count": 30,
   "id": "a4e24320-8a11-4496-b59c-6b5e20b036e7",
   "metadata": {},
   "outputs": [
    {
     "data": {
      "text/plain": [
       "0       1056.000000\n",
       "1        866.666667\n",
       "2       1440.000000\n",
       "3       1521.000000\n",
       "4       1200.000000\n",
       "           ...     \n",
       "8011    1894.000000\n",
       "8012     960.000000\n",
       "8013    1760.000000\n",
       "8014    1768.000000\n",
       "8015    1790.000000\n",
       "Name: total_sqft, Length: 7605, dtype: float64"
      ]
     },
     "execution_count": 30,
     "metadata": {},
     "output_type": "execute_result"
    }
   ],
   "source": [
    "data2['total_sqft']=data2.total_sqft.apply(cnvrt)\n",
    "data2['total_sqft']"
   ]
  },
  {
   "cell_type": "code",
   "execution_count": 31,
   "id": "e7edc858-9500-4bcf-8451-1a7e57cfc5b4",
   "metadata": {},
   "outputs": [
    {
     "data": {
      "text/plain": [
       "0"
      ]
     },
     "execution_count": 31,
     "metadata": {},
     "output_type": "execute_result"
    }
   ],
   "source": [
    "data2['total_sqft'].isna().sum()"
   ]
  },
  {
   "cell_type": "code",
   "execution_count": 32,
   "id": "20ea39a9-0dae-4c88-849a-71a051292ed0",
   "metadata": {},
   "outputs": [
    {
     "data": {
      "text/plain": [
       "0"
      ]
     },
     "execution_count": 32,
     "metadata": {},
     "output_type": "execute_result"
    }
   ],
   "source": [
    "data2.isna().any().sum()"
   ]
  },
  {
   "cell_type": "code",
   "execution_count": 33,
   "id": "d5f65bee-138b-4fdd-9fbf-dadd6331e053",
   "metadata": {},
   "outputs": [],
   "source": [
    "columns_needed=['area_type','location','bath','price','bhk','total_sqft']\n",
    "\n",
    "data2=data2.drop([x for x in data2.columns if x not in columns_needed],axis=1)"
   ]
  },
  {
   "cell_type": "code",
   "execution_count": 34,
   "id": "0407ac65-a45c-40d4-81af-89fd8b239cb4",
   "metadata": {},
   "outputs": [],
   "source": [
    "data2 = data2[data2.bath <= 9]"
   ]
  },
  {
   "cell_type": "code",
   "execution_count": 35,
   "id": "94a8352b-80d6-4d96-af67-a5435216c95b",
   "metadata": {},
   "outputs": [
    {
     "data": {
      "text/html": [
       "<div>\n",
       "<style scoped>\n",
       "    .dataframe tbody tr th:only-of-type {\n",
       "        vertical-align: middle;\n",
       "    }\n",
       "\n",
       "    .dataframe tbody tr th {\n",
       "        vertical-align: top;\n",
       "    }\n",
       "\n",
       "    .dataframe thead th {\n",
       "        text-align: right;\n",
       "    }\n",
       "</style>\n",
       "<table border=\"1\" class=\"dataframe\">\n",
       "  <thead>\n",
       "    <tr style=\"text-align: right;\">\n",
       "      <th></th>\n",
       "      <th>area_type</th>\n",
       "      <th>location</th>\n",
       "      <th>total_sqft</th>\n",
       "      <th>bath</th>\n",
       "      <th>price</th>\n",
       "      <th>bhk</th>\n",
       "    </tr>\n",
       "  </thead>\n",
       "  <tbody>\n",
       "    <tr>\n",
       "      <th>0</th>\n",
       "      <td>Super built-up  Area</td>\n",
       "      <td>Electronic City Phase II</td>\n",
       "      <td>1056.000000</td>\n",
       "      <td>2.0</td>\n",
       "      <td>39.07</td>\n",
       "      <td>2</td>\n",
       "    </tr>\n",
       "    <tr>\n",
       "      <th>1</th>\n",
       "      <td>Plot  Area</td>\n",
       "      <td>other</td>\n",
       "      <td>866.666667</td>\n",
       "      <td>5.0</td>\n",
       "      <td>120.00</td>\n",
       "      <td>4</td>\n",
       "    </tr>\n",
       "    <tr>\n",
       "      <th>2</th>\n",
       "      <td>Built-up  Area</td>\n",
       "      <td>Uttarahalli</td>\n",
       "      <td>1440.000000</td>\n",
       "      <td>2.0</td>\n",
       "      <td>62.00</td>\n",
       "      <td>3</td>\n",
       "    </tr>\n",
       "    <tr>\n",
       "      <th>3</th>\n",
       "      <td>Super built-up  Area</td>\n",
       "      <td>Lingadheeranahalli</td>\n",
       "      <td>1521.000000</td>\n",
       "      <td>3.0</td>\n",
       "      <td>95.00</td>\n",
       "      <td>3</td>\n",
       "    </tr>\n",
       "    <tr>\n",
       "      <th>4</th>\n",
       "      <td>Super built-up  Area</td>\n",
       "      <td>Kothanur</td>\n",
       "      <td>1200.000000</td>\n",
       "      <td>2.0</td>\n",
       "      <td>51.00</td>\n",
       "      <td>2</td>\n",
       "    </tr>\n",
       "  </tbody>\n",
       "</table>\n",
       "</div>"
      ],
      "text/plain": [
       "              area_type                  location   total_sqft  bath   price  \\\n",
       "0  Super built-up  Area  Electronic City Phase II  1056.000000   2.0   39.07   \n",
       "1            Plot  Area                     other   866.666667   5.0  120.00   \n",
       "2        Built-up  Area               Uttarahalli  1440.000000   2.0   62.00   \n",
       "3  Super built-up  Area        Lingadheeranahalli  1521.000000   3.0   95.00   \n",
       "4  Super built-up  Area                  Kothanur  1200.000000   2.0   51.00   \n",
       "\n",
       "   bhk  \n",
       "0    2  \n",
       "1    4  \n",
       "2    3  \n",
       "3    3  \n",
       "4    2  "
      ]
     },
     "execution_count": 35,
     "metadata": {},
     "output_type": "execute_result"
    }
   ],
   "source": [
    "data2.head()"
   ]
  },
  {
   "cell_type": "code",
   "execution_count": 36,
   "id": "4d7864b8-1656-4c7f-9f2e-0f50ce297767",
   "metadata": {},
   "outputs": [],
   "source": [
    "# create a column price per sqft\n",
    "\n",
    "data2['price_per_sqft']=(data2['price']/1)/data2['total_sqft']"
   ]
  },
  {
   "cell_type": "code",
   "execution_count": 37,
   "id": "bd0e28e8-7a8e-4c9b-846b-1169002be1a7",
   "metadata": {},
   "outputs": [
    {
     "data": {
      "text/plain": [
       "area_type         0\n",
       "location          0\n",
       "total_sqft        0\n",
       "bath              0\n",
       "price             0\n",
       "bhk               0\n",
       "price_per_sqft    0\n",
       "dtype: int64"
      ]
     },
     "execution_count": 37,
     "metadata": {},
     "output_type": "execute_result"
    }
   ],
   "source": [
    "data2.isna().sum()"
   ]
  },
  {
   "cell_type": "code",
   "execution_count": 38,
   "id": "550ca0f9-3b76-48e5-a378-87f6f46ff2cd",
   "metadata": {},
   "outputs": [],
   "source": [
    "def remove_bhk_outlier(data):\n",
    "    exclude_indices = np.array([])\n",
    "    for location, location_data in data.groupby('location'):\n",
    "        bhk_stats = {}\n",
    "        for bhk, bhk_data in location_data.groupby('bhk'):\n",
    "            bhk_stats[bhk] = {\n",
    "                'mean': np.mean(bhk_data.price_per_sqft),\n",
    "                'std': np.std(bhk_data.price_per_sqft),\n",
    "                'count': bhk_data.shape[0]\n",
    "            }\n",
    "        for bhk, bhk_data in location_data.groupby('bhk'):\n",
    "            stats = bhk_stats.get(bhk - 1)\n",
    "            if stats and stats['count'] > 5:\n",
    "                exclude_indices = np.append(exclude_indices, bhk_data[bhk_data.price_per_sqft < stats['mean']].index.values)\n",
    "    return data.drop(exclude_indices, axis='index')"
   ]
  },
  {
   "cell_type": "code",
   "execution_count": 39,
   "id": "5ffb384f-f84f-4aad-bd35-4782a4267d50",
   "metadata": {},
   "outputs": [],
   "source": [
    "data3=remove_bhk_outlier(data2)"
   ]
  },
  {
   "cell_type": "code",
   "execution_count": 40,
   "id": "012bdb06-35bd-4547-b781-2b028fe746f0",
   "metadata": {},
   "outputs": [
    {
     "name": "stdout",
     "output_type": "stream",
     "text": [
      "<class 'pandas.core.frame.DataFrame'>\n",
      "Index: 5112 entries, 0 to 8015\n",
      "Data columns (total 7 columns):\n",
      " #   Column          Non-Null Count  Dtype  \n",
      "---  ------          --------------  -----  \n",
      " 0   area_type       5112 non-null   object \n",
      " 1   location        5112 non-null   object \n",
      " 2   total_sqft      5112 non-null   float64\n",
      " 3   bath            5112 non-null   float64\n",
      " 4   price           5112 non-null   float64\n",
      " 5   bhk             5112 non-null   int64  \n",
      " 6   price_per_sqft  5112 non-null   float64\n",
      "dtypes: float64(4), int64(1), object(2)\n",
      "memory usage: 319.5+ KB\n"
     ]
    }
   ],
   "source": [
    "data3.info()"
   ]
  },
  {
   "cell_type": "code",
   "execution_count": 41,
   "id": "01381a78-702f-46f9-be0d-0002d30d62d3",
   "metadata": {},
   "outputs": [
    {
     "data": {
      "text/html": [
       "<div>\n",
       "<style scoped>\n",
       "    .dataframe tbody tr th:only-of-type {\n",
       "        vertical-align: middle;\n",
       "    }\n",
       "\n",
       "    .dataframe tbody tr th {\n",
       "        vertical-align: top;\n",
       "    }\n",
       "\n",
       "    .dataframe thead th {\n",
       "        text-align: right;\n",
       "    }\n",
       "</style>\n",
       "<table border=\"1\" class=\"dataframe\">\n",
       "  <thead>\n",
       "    <tr style=\"text-align: right;\">\n",
       "      <th></th>\n",
       "      <th>area_type</th>\n",
       "      <th>location</th>\n",
       "      <th>total_sqft</th>\n",
       "      <th>bath</th>\n",
       "      <th>price</th>\n",
       "      <th>bhk</th>\n",
       "    </tr>\n",
       "  </thead>\n",
       "  <tbody>\n",
       "    <tr>\n",
       "      <th>0</th>\n",
       "      <td>Super built-up  Area</td>\n",
       "      <td>Electronic City Phase II</td>\n",
       "      <td>1056.000000</td>\n",
       "      <td>2.0</td>\n",
       "      <td>39.07</td>\n",
       "      <td>2</td>\n",
       "    </tr>\n",
       "    <tr>\n",
       "      <th>1</th>\n",
       "      <td>Plot  Area</td>\n",
       "      <td>other</td>\n",
       "      <td>866.666667</td>\n",
       "      <td>5.0</td>\n",
       "      <td>120.00</td>\n",
       "      <td>4</td>\n",
       "    </tr>\n",
       "    <tr>\n",
       "      <th>2</th>\n",
       "      <td>Built-up  Area</td>\n",
       "      <td>Uttarahalli</td>\n",
       "      <td>1440.000000</td>\n",
       "      <td>2.0</td>\n",
       "      <td>62.00</td>\n",
       "      <td>3</td>\n",
       "    </tr>\n",
       "    <tr>\n",
       "      <th>3</th>\n",
       "      <td>Super built-up  Area</td>\n",
       "      <td>Lingadheeranahalli</td>\n",
       "      <td>1521.000000</td>\n",
       "      <td>3.0</td>\n",
       "      <td>95.00</td>\n",
       "      <td>3</td>\n",
       "    </tr>\n",
       "    <tr>\n",
       "      <th>4</th>\n",
       "      <td>Super built-up  Area</td>\n",
       "      <td>Kothanur</td>\n",
       "      <td>1200.000000</td>\n",
       "      <td>2.0</td>\n",
       "      <td>51.00</td>\n",
       "      <td>2</td>\n",
       "    </tr>\n",
       "  </tbody>\n",
       "</table>\n",
       "</div>"
      ],
      "text/plain": [
       "              area_type                  location   total_sqft  bath   price  \\\n",
       "0  Super built-up  Area  Electronic City Phase II  1056.000000   2.0   39.07   \n",
       "1            Plot  Area                     other   866.666667   5.0  120.00   \n",
       "2        Built-up  Area               Uttarahalli  1440.000000   2.0   62.00   \n",
       "3  Super built-up  Area        Lingadheeranahalli  1521.000000   3.0   95.00   \n",
       "4  Super built-up  Area                  Kothanur  1200.000000   2.0   51.00   \n",
       "\n",
       "   bhk  \n",
       "0    2  \n",
       "1    4  \n",
       "2    3  \n",
       "3    3  \n",
       "4    2  "
      ]
     },
     "execution_count": 41,
     "metadata": {},
     "output_type": "execute_result"
    }
   ],
   "source": [
    "data4=data3[['area_type','location','total_sqft','bath','price','bhk']]\n",
    "data4.head()"
   ]
  },
  {
   "cell_type": "code",
   "execution_count": 42,
   "id": "a309ed01-9c14-4fc1-a41e-2be8733638c2",
   "metadata": {},
   "outputs": [],
   "source": [
    "from sklearn.model_selection import train_test_split\n",
    "from sklearn.linear_model import LinearRegression\n",
    "from sklearn.preprocessing import PolynomialFeatures\n",
    "from sklearn.preprocessing import OrdinalEncoder\n",
    "from sklearn.preprocessing import OneHotEncoder\n",
    "from sklearn.metrics import mean_squared_error\n",
    "from sklearn.pipeline import make_pipeline\n",
    "from sklearn.compose import ColumnTransformer"
   ]
  },
  {
   "cell_type": "code",
   "execution_count": 43,
   "id": "863e8cc2-edf1-4414-bf09-81be106a3673",
   "metadata": {},
   "outputs": [
    {
     "data": {
      "text/plain": [
       "array(['Super built-up  Area', 'Plot  Area', 'Built-up  Area',\n",
       "       'Carpet  Area'], dtype=object)"
      ]
     },
     "execution_count": 43,
     "metadata": {},
     "output_type": "execute_result"
    }
   ],
   "source": [
    "data4.area_type.unique()"
   ]
  },
  {
   "cell_type": "code",
   "execution_count": 44,
   "id": "4487be49-03c6-4983-8f02-70fb43e1b121",
   "metadata": {},
   "outputs": [],
   "source": [
    "area_type_category=[['Super built-up  Area', 'Plot  Area', 'Built-up  Area','Carpet  Area']]"
   ]
  },
  {
   "cell_type": "code",
   "execution_count": 45,
   "id": "c31df047-f18f-4050-ba26-837d28aedab2",
   "metadata": {},
   "outputs": [],
   "source": [
    "ordinal_features=['area_type']\n",
    "\n",
    "ordinal_encoder=OrdinalEncoder(categories=area_type_category)"
   ]
  },
  {
   "cell_type": "code",
   "execution_count": 46,
   "id": "1d4c3168-a650-4f86-b644-fcf4454ce39a",
   "metadata": {},
   "outputs": [],
   "source": [
    "categorical_features=['location']\n",
    "\n",
    "ohe=OneHotEncoder(sparse_output=False)"
   ]
  },
  {
   "cell_type": "code",
   "execution_count": 47,
   "id": "43cf7150-4d8d-4140-b475-7518a0a32812",
   "metadata": {},
   "outputs": [],
   "source": [
    "ct=ColumnTransformer(transformers=\n",
    "                     [ \n",
    "  ('ord',ordinal_encoder,ordinal_features),\n",
    "  ('cat',ohe,categorical_features)]\n",
    "                         )"
   ]
  },
  {
   "cell_type": "code",
   "execution_count": 48,
   "id": "346b14f6-a9e9-4887-8f83-797097ff4652",
   "metadata": {},
   "outputs": [
    {
     "data": {
      "text/html": [
       "<style>#sk-container-id-1 {color: black;}#sk-container-id-1 pre{padding: 0;}#sk-container-id-1 div.sk-toggleable {background-color: white;}#sk-container-id-1 label.sk-toggleable__label {cursor: pointer;display: block;width: 100%;margin-bottom: 0;padding: 0.3em;box-sizing: border-box;text-align: center;}#sk-container-id-1 label.sk-toggleable__label-arrow:before {content: \"▸\";float: left;margin-right: 0.25em;color: #696969;}#sk-container-id-1 label.sk-toggleable__label-arrow:hover:before {color: black;}#sk-container-id-1 div.sk-estimator:hover label.sk-toggleable__label-arrow:before {color: black;}#sk-container-id-1 div.sk-toggleable__content {max-height: 0;max-width: 0;overflow: hidden;text-align: left;background-color: #f0f8ff;}#sk-container-id-1 div.sk-toggleable__content pre {margin: 0.2em;color: black;border-radius: 0.25em;background-color: #f0f8ff;}#sk-container-id-1 input.sk-toggleable__control:checked~div.sk-toggleable__content {max-height: 200px;max-width: 100%;overflow: auto;}#sk-container-id-1 input.sk-toggleable__control:checked~label.sk-toggleable__label-arrow:before {content: \"▾\";}#sk-container-id-1 div.sk-estimator input.sk-toggleable__control:checked~label.sk-toggleable__label {background-color: #d4ebff;}#sk-container-id-1 div.sk-label input.sk-toggleable__control:checked~label.sk-toggleable__label {background-color: #d4ebff;}#sk-container-id-1 input.sk-hidden--visually {border: 0;clip: rect(1px 1px 1px 1px);clip: rect(1px, 1px, 1px, 1px);height: 1px;margin: -1px;overflow: hidden;padding: 0;position: absolute;width: 1px;}#sk-container-id-1 div.sk-estimator {font-family: monospace;background-color: #f0f8ff;border: 1px dotted black;border-radius: 0.25em;box-sizing: border-box;margin-bottom: 0.5em;}#sk-container-id-1 div.sk-estimator:hover {background-color: #d4ebff;}#sk-container-id-1 div.sk-parallel-item::after {content: \"\";width: 100%;border-bottom: 1px solid gray;flex-grow: 1;}#sk-container-id-1 div.sk-label:hover label.sk-toggleable__label {background-color: #d4ebff;}#sk-container-id-1 div.sk-serial::before {content: \"\";position: absolute;border-left: 1px solid gray;box-sizing: border-box;top: 0;bottom: 0;left: 50%;z-index: 0;}#sk-container-id-1 div.sk-serial {display: flex;flex-direction: column;align-items: center;background-color: white;padding-right: 0.2em;padding-left: 0.2em;position: relative;}#sk-container-id-1 div.sk-item {position: relative;z-index: 1;}#sk-container-id-1 div.sk-parallel {display: flex;align-items: stretch;justify-content: center;background-color: white;position: relative;}#sk-container-id-1 div.sk-item::before, #sk-container-id-1 div.sk-parallel-item::before {content: \"\";position: absolute;border-left: 1px solid gray;box-sizing: border-box;top: 0;bottom: 0;left: 50%;z-index: -1;}#sk-container-id-1 div.sk-parallel-item {display: flex;flex-direction: column;z-index: 1;position: relative;background-color: white;}#sk-container-id-1 div.sk-parallel-item:first-child::after {align-self: flex-end;width: 50%;}#sk-container-id-1 div.sk-parallel-item:last-child::after {align-self: flex-start;width: 50%;}#sk-container-id-1 div.sk-parallel-item:only-child::after {width: 0;}#sk-container-id-1 div.sk-dashed-wrapped {border: 1px dashed gray;margin: 0 0.4em 0.5em 0.4em;box-sizing: border-box;padding-bottom: 0.4em;background-color: white;}#sk-container-id-1 div.sk-label label {font-family: monospace;font-weight: bold;display: inline-block;line-height: 1.2em;}#sk-container-id-1 div.sk-label-container {text-align: center;}#sk-container-id-1 div.sk-container {/* jupyter's `normalize.less` sets `[hidden] { display: none; }` but bootstrap.min.css set `[hidden] { display: none !important; }` so we also need the `!important` here to be able to override the default hidden behavior on the sphinx rendered scikit-learn.org. See: https://github.com/scikit-learn/scikit-learn/issues/21755 */display: inline-block !important;position: relative;}#sk-container-id-1 div.sk-text-repr-fallback {display: none;}</style><div id=\"sk-container-id-1\" class=\"sk-top-container\"><div class=\"sk-text-repr-fallback\"><pre>ColumnTransformer(transformers=[(&#x27;ord&#x27;,\n",
       "                                 OrdinalEncoder(categories=[[&#x27;Super built-up  &#x27;\n",
       "                                                             &#x27;Area&#x27;,\n",
       "                                                             &#x27;Plot  Area&#x27;,\n",
       "                                                             &#x27;Built-up  Area&#x27;,\n",
       "                                                             &#x27;Carpet  Area&#x27;]]),\n",
       "                                 [&#x27;area_type&#x27;]),\n",
       "                                (&#x27;cat&#x27;, OneHotEncoder(sparse_output=False),\n",
       "                                 [&#x27;location&#x27;])])</pre><b>In a Jupyter environment, please rerun this cell to show the HTML representation or trust the notebook. <br />On GitHub, the HTML representation is unable to render, please try loading this page with nbviewer.org.</b></div><div class=\"sk-container\" hidden><div class=\"sk-item sk-dashed-wrapped\"><div class=\"sk-label-container\"><div class=\"sk-label sk-toggleable\"><input class=\"sk-toggleable__control sk-hidden--visually\" id=\"sk-estimator-id-1\" type=\"checkbox\" ><label for=\"sk-estimator-id-1\" class=\"sk-toggleable__label sk-toggleable__label-arrow\">ColumnTransformer</label><div class=\"sk-toggleable__content\"><pre>ColumnTransformer(transformers=[(&#x27;ord&#x27;,\n",
       "                                 OrdinalEncoder(categories=[[&#x27;Super built-up  &#x27;\n",
       "                                                             &#x27;Area&#x27;,\n",
       "                                                             &#x27;Plot  Area&#x27;,\n",
       "                                                             &#x27;Built-up  Area&#x27;,\n",
       "                                                             &#x27;Carpet  Area&#x27;]]),\n",
       "                                 [&#x27;area_type&#x27;]),\n",
       "                                (&#x27;cat&#x27;, OneHotEncoder(sparse_output=False),\n",
       "                                 [&#x27;location&#x27;])])</pre></div></div></div><div class=\"sk-parallel\"><div class=\"sk-parallel-item\"><div class=\"sk-item\"><div class=\"sk-label-container\"><div class=\"sk-label sk-toggleable\"><input class=\"sk-toggleable__control sk-hidden--visually\" id=\"sk-estimator-id-2\" type=\"checkbox\" ><label for=\"sk-estimator-id-2\" class=\"sk-toggleable__label sk-toggleable__label-arrow\">ord</label><div class=\"sk-toggleable__content\"><pre>[&#x27;area_type&#x27;]</pre></div></div></div><div class=\"sk-serial\"><div class=\"sk-item\"><div class=\"sk-estimator sk-toggleable\"><input class=\"sk-toggleable__control sk-hidden--visually\" id=\"sk-estimator-id-3\" type=\"checkbox\" ><label for=\"sk-estimator-id-3\" class=\"sk-toggleable__label sk-toggleable__label-arrow\">OrdinalEncoder</label><div class=\"sk-toggleable__content\"><pre>OrdinalEncoder(categories=[[&#x27;Super built-up  Area&#x27;, &#x27;Plot  Area&#x27;,\n",
       "                            &#x27;Built-up  Area&#x27;, &#x27;Carpet  Area&#x27;]])</pre></div></div></div></div></div></div><div class=\"sk-parallel-item\"><div class=\"sk-item\"><div class=\"sk-label-container\"><div class=\"sk-label sk-toggleable\"><input class=\"sk-toggleable__control sk-hidden--visually\" id=\"sk-estimator-id-4\" type=\"checkbox\" ><label for=\"sk-estimator-id-4\" class=\"sk-toggleable__label sk-toggleable__label-arrow\">cat</label><div class=\"sk-toggleable__content\"><pre>[&#x27;location&#x27;]</pre></div></div></div><div class=\"sk-serial\"><div class=\"sk-item\"><div class=\"sk-estimator sk-toggleable\"><input class=\"sk-toggleable__control sk-hidden--visually\" id=\"sk-estimator-id-5\" type=\"checkbox\" ><label for=\"sk-estimator-id-5\" class=\"sk-toggleable__label sk-toggleable__label-arrow\">OneHotEncoder</label><div class=\"sk-toggleable__content\"><pre>OneHotEncoder(sparse_output=False)</pre></div></div></div></div></div></div></div></div></div></div>"
      ],
      "text/plain": [
       "ColumnTransformer(transformers=[('ord',\n",
       "                                 OrdinalEncoder(categories=[['Super built-up  '\n",
       "                                                             'Area',\n",
       "                                                             'Plot  Area',\n",
       "                                                             'Built-up  Area',\n",
       "                                                             'Carpet  Area']]),\n",
       "                                 ['area_type']),\n",
       "                                ('cat', OneHotEncoder(sparse_output=False),\n",
       "                                 ['location'])])"
      ]
     },
     "execution_count": 48,
     "metadata": {},
     "output_type": "execute_result"
    }
   ],
   "source": [
    "ct.set_output(transform='pandas')"
   ]
  },
  {
   "cell_type": "code",
   "execution_count": 49,
   "id": "d3b1bef6-7ffc-4e6b-9b2a-4d652fd9f103",
   "metadata": {},
   "outputs": [],
   "source": [
    "encoded_features=ct.fit_transform(data4)"
   ]
  },
  {
   "cell_type": "code",
   "execution_count": 50,
   "id": "4bddf6eb-7f37-48d4-914b-a69266aa1f3c",
   "metadata": {},
   "outputs": [
    {
     "data": {
      "text/html": [
       "<div>\n",
       "<style scoped>\n",
       "    .dataframe tbody tr th:only-of-type {\n",
       "        vertical-align: middle;\n",
       "    }\n",
       "\n",
       "    .dataframe tbody tr th {\n",
       "        vertical-align: top;\n",
       "    }\n",
       "\n",
       "    .dataframe thead th {\n",
       "        text-align: right;\n",
       "    }\n",
       "</style>\n",
       "<table border=\"1\" class=\"dataframe\">\n",
       "  <thead>\n",
       "    <tr style=\"text-align: right;\">\n",
       "      <th></th>\n",
       "      <th>ord__area_type</th>\n",
       "      <th>cat__location_1st Block Jayanagar</th>\n",
       "      <th>cat__location_1st Phase JP Nagar</th>\n",
       "      <th>cat__location_2nd Stage Nagarbhavi</th>\n",
       "      <th>cat__location_5th Phase JP Nagar</th>\n",
       "      <th>cat__location_6th Phase JP Nagar</th>\n",
       "      <th>cat__location_7th Phase JP Nagar</th>\n",
       "      <th>cat__location_8th Phase JP Nagar</th>\n",
       "      <th>cat__location_9th Phase JP Nagar</th>\n",
       "      <th>cat__location_Abbigere</th>\n",
       "      <th>...</th>\n",
       "      <th>cat__location_Varthur</th>\n",
       "      <th>cat__location_Vidyaranyapura</th>\n",
       "      <th>cat__location_Vijayanagar</th>\n",
       "      <th>cat__location_Vittasandra</th>\n",
       "      <th>cat__location_Whitefield</th>\n",
       "      <th>cat__location_Yelachenahalli</th>\n",
       "      <th>cat__location_Yelahanka</th>\n",
       "      <th>cat__location_Yelahanka New Town</th>\n",
       "      <th>cat__location_Yeshwanthpur</th>\n",
       "      <th>cat__location_other</th>\n",
       "    </tr>\n",
       "  </thead>\n",
       "  <tbody>\n",
       "    <tr>\n",
       "      <th>0</th>\n",
       "      <td>0.0</td>\n",
       "      <td>0.0</td>\n",
       "      <td>0.0</td>\n",
       "      <td>0.0</td>\n",
       "      <td>0.0</td>\n",
       "      <td>0.0</td>\n",
       "      <td>0.0</td>\n",
       "      <td>0.0</td>\n",
       "      <td>0.0</td>\n",
       "      <td>0.0</td>\n",
       "      <td>...</td>\n",
       "      <td>0.0</td>\n",
       "      <td>0.0</td>\n",
       "      <td>0.0</td>\n",
       "      <td>0.0</td>\n",
       "      <td>0.0</td>\n",
       "      <td>0.0</td>\n",
       "      <td>0.0</td>\n",
       "      <td>0.0</td>\n",
       "      <td>0.0</td>\n",
       "      <td>0.0</td>\n",
       "    </tr>\n",
       "    <tr>\n",
       "      <th>1</th>\n",
       "      <td>1.0</td>\n",
       "      <td>0.0</td>\n",
       "      <td>0.0</td>\n",
       "      <td>0.0</td>\n",
       "      <td>0.0</td>\n",
       "      <td>0.0</td>\n",
       "      <td>0.0</td>\n",
       "      <td>0.0</td>\n",
       "      <td>0.0</td>\n",
       "      <td>0.0</td>\n",
       "      <td>...</td>\n",
       "      <td>0.0</td>\n",
       "      <td>0.0</td>\n",
       "      <td>0.0</td>\n",
       "      <td>0.0</td>\n",
       "      <td>0.0</td>\n",
       "      <td>0.0</td>\n",
       "      <td>0.0</td>\n",
       "      <td>0.0</td>\n",
       "      <td>0.0</td>\n",
       "      <td>1.0</td>\n",
       "    </tr>\n",
       "    <tr>\n",
       "      <th>2</th>\n",
       "      <td>2.0</td>\n",
       "      <td>0.0</td>\n",
       "      <td>0.0</td>\n",
       "      <td>0.0</td>\n",
       "      <td>0.0</td>\n",
       "      <td>0.0</td>\n",
       "      <td>0.0</td>\n",
       "      <td>0.0</td>\n",
       "      <td>0.0</td>\n",
       "      <td>0.0</td>\n",
       "      <td>...</td>\n",
       "      <td>0.0</td>\n",
       "      <td>0.0</td>\n",
       "      <td>0.0</td>\n",
       "      <td>0.0</td>\n",
       "      <td>0.0</td>\n",
       "      <td>0.0</td>\n",
       "      <td>0.0</td>\n",
       "      <td>0.0</td>\n",
       "      <td>0.0</td>\n",
       "      <td>0.0</td>\n",
       "    </tr>\n",
       "    <tr>\n",
       "      <th>3</th>\n",
       "      <td>0.0</td>\n",
       "      <td>0.0</td>\n",
       "      <td>0.0</td>\n",
       "      <td>0.0</td>\n",
       "      <td>0.0</td>\n",
       "      <td>0.0</td>\n",
       "      <td>0.0</td>\n",
       "      <td>0.0</td>\n",
       "      <td>0.0</td>\n",
       "      <td>0.0</td>\n",
       "      <td>...</td>\n",
       "      <td>0.0</td>\n",
       "      <td>0.0</td>\n",
       "      <td>0.0</td>\n",
       "      <td>0.0</td>\n",
       "      <td>0.0</td>\n",
       "      <td>0.0</td>\n",
       "      <td>0.0</td>\n",
       "      <td>0.0</td>\n",
       "      <td>0.0</td>\n",
       "      <td>0.0</td>\n",
       "    </tr>\n",
       "    <tr>\n",
       "      <th>4</th>\n",
       "      <td>0.0</td>\n",
       "      <td>0.0</td>\n",
       "      <td>0.0</td>\n",
       "      <td>0.0</td>\n",
       "      <td>0.0</td>\n",
       "      <td>0.0</td>\n",
       "      <td>0.0</td>\n",
       "      <td>0.0</td>\n",
       "      <td>0.0</td>\n",
       "      <td>0.0</td>\n",
       "      <td>...</td>\n",
       "      <td>0.0</td>\n",
       "      <td>0.0</td>\n",
       "      <td>0.0</td>\n",
       "      <td>0.0</td>\n",
       "      <td>0.0</td>\n",
       "      <td>0.0</td>\n",
       "      <td>0.0</td>\n",
       "      <td>0.0</td>\n",
       "      <td>0.0</td>\n",
       "      <td>0.0</td>\n",
       "    </tr>\n",
       "  </tbody>\n",
       "</table>\n",
       "<p>5 rows × 159 columns</p>\n",
       "</div>"
      ],
      "text/plain": [
       "   ord__area_type  cat__location_1st Block Jayanagar  \\\n",
       "0             0.0                                0.0   \n",
       "1             1.0                                0.0   \n",
       "2             2.0                                0.0   \n",
       "3             0.0                                0.0   \n",
       "4             0.0                                0.0   \n",
       "\n",
       "   cat__location_1st Phase JP Nagar  cat__location_2nd Stage Nagarbhavi  \\\n",
       "0                               0.0                                 0.0   \n",
       "1                               0.0                                 0.0   \n",
       "2                               0.0                                 0.0   \n",
       "3                               0.0                                 0.0   \n",
       "4                               0.0                                 0.0   \n",
       "\n",
       "   cat__location_5th Phase JP Nagar  cat__location_6th Phase JP Nagar  \\\n",
       "0                               0.0                               0.0   \n",
       "1                               0.0                               0.0   \n",
       "2                               0.0                               0.0   \n",
       "3                               0.0                               0.0   \n",
       "4                               0.0                               0.0   \n",
       "\n",
       "   cat__location_7th Phase JP Nagar  cat__location_8th Phase JP Nagar  \\\n",
       "0                               0.0                               0.0   \n",
       "1                               0.0                               0.0   \n",
       "2                               0.0                               0.0   \n",
       "3                               0.0                               0.0   \n",
       "4                               0.0                               0.0   \n",
       "\n",
       "   cat__location_9th Phase JP Nagar  cat__location_Abbigere  ...  \\\n",
       "0                               0.0                     0.0  ...   \n",
       "1                               0.0                     0.0  ...   \n",
       "2                               0.0                     0.0  ...   \n",
       "3                               0.0                     0.0  ...   \n",
       "4                               0.0                     0.0  ...   \n",
       "\n",
       "   cat__location_Varthur  cat__location_Vidyaranyapura  \\\n",
       "0                    0.0                           0.0   \n",
       "1                    0.0                           0.0   \n",
       "2                    0.0                           0.0   \n",
       "3                    0.0                           0.0   \n",
       "4                    0.0                           0.0   \n",
       "\n",
       "   cat__location_Vijayanagar  cat__location_Vittasandra  \\\n",
       "0                        0.0                        0.0   \n",
       "1                        0.0                        0.0   \n",
       "2                        0.0                        0.0   \n",
       "3                        0.0                        0.0   \n",
       "4                        0.0                        0.0   \n",
       "\n",
       "   cat__location_Whitefield  cat__location_Yelachenahalli  \\\n",
       "0                       0.0                           0.0   \n",
       "1                       0.0                           0.0   \n",
       "2                       0.0                           0.0   \n",
       "3                       0.0                           0.0   \n",
       "4                       0.0                           0.0   \n",
       "\n",
       "   cat__location_Yelahanka  cat__location_Yelahanka New Town  \\\n",
       "0                      0.0                               0.0   \n",
       "1                      0.0                               0.0   \n",
       "2                      0.0                               0.0   \n",
       "3                      0.0                               0.0   \n",
       "4                      0.0                               0.0   \n",
       "\n",
       "   cat__location_Yeshwanthpur  cat__location_other  \n",
       "0                         0.0                  0.0  \n",
       "1                         0.0                  1.0  \n",
       "2                         0.0                  0.0  \n",
       "3                         0.0                  0.0  \n",
       "4                         0.0                  0.0  \n",
       "\n",
       "[5 rows x 159 columns]"
      ]
     },
     "execution_count": 50,
     "metadata": {},
     "output_type": "execute_result"
    }
   ],
   "source": [
    "encoded_features.head()"
   ]
  },
  {
   "cell_type": "code",
   "execution_count": 51,
   "id": "d02fa73a-94dc-422b-9bc5-478860c4785d",
   "metadata": {},
   "outputs": [
    {
     "data": {
      "text/plain": [
       "ord__area_type                        0\n",
       "cat__location_1st Block Jayanagar     0\n",
       "cat__location_1st Phase JP Nagar      0\n",
       "cat__location_2nd Stage Nagarbhavi    0\n",
       "cat__location_5th Phase JP Nagar      0\n",
       "                                     ..\n",
       "cat__location_Yelachenahalli          0\n",
       "cat__location_Yelahanka               0\n",
       "cat__location_Yelahanka New Town      0\n",
       "cat__location_Yeshwanthpur            0\n",
       "cat__location_other                   0\n",
       "Length: 159, dtype: int64"
      ]
     },
     "execution_count": 51,
     "metadata": {},
     "output_type": "execute_result"
    }
   ],
   "source": [
    "encoded_features.isna().sum()"
   ]
  },
  {
   "cell_type": "code",
   "execution_count": 52,
   "id": "553db926-9f56-44d8-b512-222a655af4ec",
   "metadata": {},
   "outputs": [
    {
     "name": "stdout",
     "output_type": "stream",
     "text": [
      "<class 'pandas.core.frame.DataFrame'>\n",
      "Index: 5112 entries, 0 to 8015\n",
      "Columns: 159 entries, ord__area_type to cat__location_other\n",
      "dtypes: float64(159)\n",
      "memory usage: 6.2 MB\n"
     ]
    }
   ],
   "source": [
    "encoded_features.info()"
   ]
  },
  {
   "cell_type": "code",
   "execution_count": 53,
   "id": "43f28a5f-8809-4901-8848-bfbe94e3d5a9",
   "metadata": {},
   "outputs": [
    {
     "data": {
      "text/plain": [
       "Index(['ord__area_type', 'cat__location_1st Block Jayanagar',\n",
       "       'cat__location_1st Phase JP Nagar',\n",
       "       'cat__location_2nd Stage Nagarbhavi',\n",
       "       'cat__location_5th Phase JP Nagar', 'cat__location_6th Phase JP Nagar',\n",
       "       'cat__location_7th Phase JP Nagar', 'cat__location_8th Phase JP Nagar',\n",
       "       'cat__location_9th Phase JP Nagar', 'cat__location_Abbigere',\n",
       "       ...\n",
       "       'cat__location_Varthur', 'cat__location_Vidyaranyapura',\n",
       "       'cat__location_Vijayanagar', 'cat__location_Vittasandra',\n",
       "       'cat__location_Whitefield', 'cat__location_Yelachenahalli',\n",
       "       'cat__location_Yelahanka', 'cat__location_Yelahanka New Town',\n",
       "       'cat__location_Yeshwanthpur', 'cat__location_other'],\n",
       "      dtype='object', length=159)"
      ]
     },
     "execution_count": 53,
     "metadata": {},
     "output_type": "execute_result"
    }
   ],
   "source": [
    "encoded_features.columns.unique()"
   ]
  },
  {
   "cell_type": "code",
   "execution_count": 54,
   "id": "63818dc0-7a77-4147-adda-81562279cfb5",
   "metadata": {},
   "outputs": [],
   "source": [
    "new_data=pd.concat([encoded_features,data4],axis=1)"
   ]
  },
  {
   "cell_type": "code",
   "execution_count": 55,
   "id": "277920a4-5b70-4d87-b582-ecaf1e56df2e",
   "metadata": {},
   "outputs": [
    {
     "data": {
      "text/plain": [
       "Index(['ord__area_type', 'cat__location_1st Block Jayanagar',\n",
       "       'cat__location_1st Phase JP Nagar',\n",
       "       'cat__location_2nd Stage Nagarbhavi',\n",
       "       'cat__location_5th Phase JP Nagar', 'cat__location_6th Phase JP Nagar',\n",
       "       'cat__location_7th Phase JP Nagar', 'cat__location_8th Phase JP Nagar',\n",
       "       'cat__location_9th Phase JP Nagar', 'cat__location_Abbigere',\n",
       "       ...\n",
       "       'cat__location_Yelahanka', 'cat__location_Yelahanka New Town',\n",
       "       'cat__location_Yeshwanthpur', 'cat__location_other', 'area_type',\n",
       "       'location', 'total_sqft', 'bath', 'price', 'bhk'],\n",
       "      dtype='object', length=165)"
      ]
     },
     "execution_count": 55,
     "metadata": {},
     "output_type": "execute_result"
    }
   ],
   "source": [
    "new_data.columns.unique()"
   ]
  },
  {
   "cell_type": "code",
   "execution_count": 56,
   "id": "8ec0bb2e-4990-47ae-be87-0d4f4b315b1c",
   "metadata": {},
   "outputs": [],
   "source": [
    "X=new_data.drop(['area_type','location','price'],axis='columns')"
   ]
  },
  {
   "cell_type": "code",
   "execution_count": 57,
   "id": "c81e77b3-eaa4-4455-8921-3b1f41950599",
   "metadata": {},
   "outputs": [
    {
     "data": {
      "text/html": [
       "<div>\n",
       "<style scoped>\n",
       "    .dataframe tbody tr th:only-of-type {\n",
       "        vertical-align: middle;\n",
       "    }\n",
       "\n",
       "    .dataframe tbody tr th {\n",
       "        vertical-align: top;\n",
       "    }\n",
       "\n",
       "    .dataframe thead th {\n",
       "        text-align: right;\n",
       "    }\n",
       "</style>\n",
       "<table border=\"1\" class=\"dataframe\">\n",
       "  <thead>\n",
       "    <tr style=\"text-align: right;\">\n",
       "      <th></th>\n",
       "      <th>ord__area_type</th>\n",
       "      <th>cat__location_1st Block Jayanagar</th>\n",
       "      <th>cat__location_1st Phase JP Nagar</th>\n",
       "      <th>cat__location_2nd Stage Nagarbhavi</th>\n",
       "      <th>cat__location_5th Phase JP Nagar</th>\n",
       "      <th>cat__location_6th Phase JP Nagar</th>\n",
       "      <th>cat__location_7th Phase JP Nagar</th>\n",
       "      <th>cat__location_8th Phase JP Nagar</th>\n",
       "      <th>cat__location_9th Phase JP Nagar</th>\n",
       "      <th>cat__location_Abbigere</th>\n",
       "      <th>...</th>\n",
       "      <th>cat__location_Vittasandra</th>\n",
       "      <th>cat__location_Whitefield</th>\n",
       "      <th>cat__location_Yelachenahalli</th>\n",
       "      <th>cat__location_Yelahanka</th>\n",
       "      <th>cat__location_Yelahanka New Town</th>\n",
       "      <th>cat__location_Yeshwanthpur</th>\n",
       "      <th>cat__location_other</th>\n",
       "      <th>total_sqft</th>\n",
       "      <th>bath</th>\n",
       "      <th>bhk</th>\n",
       "    </tr>\n",
       "  </thead>\n",
       "  <tbody>\n",
       "    <tr>\n",
       "      <th>0</th>\n",
       "      <td>0.0</td>\n",
       "      <td>0.0</td>\n",
       "      <td>0.0</td>\n",
       "      <td>0.0</td>\n",
       "      <td>0.0</td>\n",
       "      <td>0.0</td>\n",
       "      <td>0.0</td>\n",
       "      <td>0.0</td>\n",
       "      <td>0.0</td>\n",
       "      <td>0.0</td>\n",
       "      <td>...</td>\n",
       "      <td>0.0</td>\n",
       "      <td>0.0</td>\n",
       "      <td>0.0</td>\n",
       "      <td>0.0</td>\n",
       "      <td>0.0</td>\n",
       "      <td>0.0</td>\n",
       "      <td>0.0</td>\n",
       "      <td>1056.000000</td>\n",
       "      <td>2.0</td>\n",
       "      <td>2</td>\n",
       "    </tr>\n",
       "    <tr>\n",
       "      <th>1</th>\n",
       "      <td>1.0</td>\n",
       "      <td>0.0</td>\n",
       "      <td>0.0</td>\n",
       "      <td>0.0</td>\n",
       "      <td>0.0</td>\n",
       "      <td>0.0</td>\n",
       "      <td>0.0</td>\n",
       "      <td>0.0</td>\n",
       "      <td>0.0</td>\n",
       "      <td>0.0</td>\n",
       "      <td>...</td>\n",
       "      <td>0.0</td>\n",
       "      <td>0.0</td>\n",
       "      <td>0.0</td>\n",
       "      <td>0.0</td>\n",
       "      <td>0.0</td>\n",
       "      <td>0.0</td>\n",
       "      <td>1.0</td>\n",
       "      <td>866.666667</td>\n",
       "      <td>5.0</td>\n",
       "      <td>4</td>\n",
       "    </tr>\n",
       "    <tr>\n",
       "      <th>2</th>\n",
       "      <td>2.0</td>\n",
       "      <td>0.0</td>\n",
       "      <td>0.0</td>\n",
       "      <td>0.0</td>\n",
       "      <td>0.0</td>\n",
       "      <td>0.0</td>\n",
       "      <td>0.0</td>\n",
       "      <td>0.0</td>\n",
       "      <td>0.0</td>\n",
       "      <td>0.0</td>\n",
       "      <td>...</td>\n",
       "      <td>0.0</td>\n",
       "      <td>0.0</td>\n",
       "      <td>0.0</td>\n",
       "      <td>0.0</td>\n",
       "      <td>0.0</td>\n",
       "      <td>0.0</td>\n",
       "      <td>0.0</td>\n",
       "      <td>1440.000000</td>\n",
       "      <td>2.0</td>\n",
       "      <td>3</td>\n",
       "    </tr>\n",
       "    <tr>\n",
       "      <th>3</th>\n",
       "      <td>0.0</td>\n",
       "      <td>0.0</td>\n",
       "      <td>0.0</td>\n",
       "      <td>0.0</td>\n",
       "      <td>0.0</td>\n",
       "      <td>0.0</td>\n",
       "      <td>0.0</td>\n",
       "      <td>0.0</td>\n",
       "      <td>0.0</td>\n",
       "      <td>0.0</td>\n",
       "      <td>...</td>\n",
       "      <td>0.0</td>\n",
       "      <td>0.0</td>\n",
       "      <td>0.0</td>\n",
       "      <td>0.0</td>\n",
       "      <td>0.0</td>\n",
       "      <td>0.0</td>\n",
       "      <td>0.0</td>\n",
       "      <td>1521.000000</td>\n",
       "      <td>3.0</td>\n",
       "      <td>3</td>\n",
       "    </tr>\n",
       "    <tr>\n",
       "      <th>4</th>\n",
       "      <td>0.0</td>\n",
       "      <td>0.0</td>\n",
       "      <td>0.0</td>\n",
       "      <td>0.0</td>\n",
       "      <td>0.0</td>\n",
       "      <td>0.0</td>\n",
       "      <td>0.0</td>\n",
       "      <td>0.0</td>\n",
       "      <td>0.0</td>\n",
       "      <td>0.0</td>\n",
       "      <td>...</td>\n",
       "      <td>0.0</td>\n",
       "      <td>0.0</td>\n",
       "      <td>0.0</td>\n",
       "      <td>0.0</td>\n",
       "      <td>0.0</td>\n",
       "      <td>0.0</td>\n",
       "      <td>0.0</td>\n",
       "      <td>1200.000000</td>\n",
       "      <td>2.0</td>\n",
       "      <td>2</td>\n",
       "    </tr>\n",
       "  </tbody>\n",
       "</table>\n",
       "<p>5 rows × 162 columns</p>\n",
       "</div>"
      ],
      "text/plain": [
       "   ord__area_type  cat__location_1st Block Jayanagar  \\\n",
       "0             0.0                                0.0   \n",
       "1             1.0                                0.0   \n",
       "2             2.0                                0.0   \n",
       "3             0.0                                0.0   \n",
       "4             0.0                                0.0   \n",
       "\n",
       "   cat__location_1st Phase JP Nagar  cat__location_2nd Stage Nagarbhavi  \\\n",
       "0                               0.0                                 0.0   \n",
       "1                               0.0                                 0.0   \n",
       "2                               0.0                                 0.0   \n",
       "3                               0.0                                 0.0   \n",
       "4                               0.0                                 0.0   \n",
       "\n",
       "   cat__location_5th Phase JP Nagar  cat__location_6th Phase JP Nagar  \\\n",
       "0                               0.0                               0.0   \n",
       "1                               0.0                               0.0   \n",
       "2                               0.0                               0.0   \n",
       "3                               0.0                               0.0   \n",
       "4                               0.0                               0.0   \n",
       "\n",
       "   cat__location_7th Phase JP Nagar  cat__location_8th Phase JP Nagar  \\\n",
       "0                               0.0                               0.0   \n",
       "1                               0.0                               0.0   \n",
       "2                               0.0                               0.0   \n",
       "3                               0.0                               0.0   \n",
       "4                               0.0                               0.0   \n",
       "\n",
       "   cat__location_9th Phase JP Nagar  cat__location_Abbigere  ...  \\\n",
       "0                               0.0                     0.0  ...   \n",
       "1                               0.0                     0.0  ...   \n",
       "2                               0.0                     0.0  ...   \n",
       "3                               0.0                     0.0  ...   \n",
       "4                               0.0                     0.0  ...   \n",
       "\n",
       "   cat__location_Vittasandra  cat__location_Whitefield  \\\n",
       "0                        0.0                       0.0   \n",
       "1                        0.0                       0.0   \n",
       "2                        0.0                       0.0   \n",
       "3                        0.0                       0.0   \n",
       "4                        0.0                       0.0   \n",
       "\n",
       "   cat__location_Yelachenahalli  cat__location_Yelahanka  \\\n",
       "0                           0.0                      0.0   \n",
       "1                           0.0                      0.0   \n",
       "2                           0.0                      0.0   \n",
       "3                           0.0                      0.0   \n",
       "4                           0.0                      0.0   \n",
       "\n",
       "   cat__location_Yelahanka New Town  cat__location_Yeshwanthpur  \\\n",
       "0                               0.0                         0.0   \n",
       "1                               0.0                         0.0   \n",
       "2                               0.0                         0.0   \n",
       "3                               0.0                         0.0   \n",
       "4                               0.0                         0.0   \n",
       "\n",
       "   cat__location_other   total_sqft  bath  bhk  \n",
       "0                  0.0  1056.000000   2.0    2  \n",
       "1                  1.0   866.666667   5.0    4  \n",
       "2                  0.0  1440.000000   2.0    3  \n",
       "3                  0.0  1521.000000   3.0    3  \n",
       "4                  0.0  1200.000000   2.0    2  \n",
       "\n",
       "[5 rows x 162 columns]"
      ]
     },
     "execution_count": 57,
     "metadata": {},
     "output_type": "execute_result"
    }
   ],
   "source": [
    "X.head()"
   ]
  },
  {
   "cell_type": "code",
   "execution_count": 58,
   "id": "63cf97c6-f864-4944-9055-62a9a0853a94",
   "metadata": {},
   "outputs": [
    {
     "name": "stdout",
     "output_type": "stream",
     "text": [
      "<class 'pandas.core.series.Series'>\n",
      "Index: 5112 entries, 0 to 8015\n",
      "Series name: price\n",
      "Non-Null Count  Dtype  \n",
      "--------------  -----  \n",
      "5112 non-null   float64\n",
      "dtypes: float64(1)\n",
      "memory usage: 79.9 KB\n"
     ]
    }
   ],
   "source": [
    "data4.price.info()"
   ]
  },
  {
   "cell_type": "code",
   "execution_count": 59,
   "id": "62508bb6-a52e-4ae0-a508-57c382709526",
   "metadata": {},
   "outputs": [],
   "source": [
    "y=data4.price"
   ]
  },
  {
   "cell_type": "code",
   "execution_count": 60,
   "id": "e1014f5b-011c-4f9c-a029-bcf5fe883375",
   "metadata": {},
   "outputs": [],
   "source": [
    "X_train,X_test,y_train,y_test=train_test_split(X,y,random_state=0,test_size=0.2)"
   ]
  },
  {
   "cell_type": "code",
   "execution_count": 61,
   "id": "a0a3aee2-cd3b-48bc-8818-f1ac67c97c8a",
   "metadata": {},
   "outputs": [
    {
     "name": "stdout",
     "output_type": "stream",
     "text": [
      "(4089, 162)\n",
      "(1023, 162)\n",
      "(4089,)\n",
      "(1023,)\n"
     ]
    }
   ],
   "source": [
    "print(X_train.shape)\n",
    "print(X_test.shape)\n",
    "print(y_train.shape)\n",
    "print(y_test.shape)"
   ]
  },
  {
   "cell_type": "code",
   "execution_count": 62,
   "id": "59ee8c27-d39f-4505-85d7-c2a10a9cbba3",
   "metadata": {},
   "outputs": [],
   "source": [
    "lin_reg=LinearRegression()"
   ]
  },
  {
   "cell_type": "code",
   "execution_count": 63,
   "id": "4d7d07d2-2ce9-47a0-a7d7-fb28ef6cb75b",
   "metadata": {},
   "outputs": [
    {
     "data": {
      "text/html": [
       "<style>#sk-container-id-2 {color: black;}#sk-container-id-2 pre{padding: 0;}#sk-container-id-2 div.sk-toggleable {background-color: white;}#sk-container-id-2 label.sk-toggleable__label {cursor: pointer;display: block;width: 100%;margin-bottom: 0;padding: 0.3em;box-sizing: border-box;text-align: center;}#sk-container-id-2 label.sk-toggleable__label-arrow:before {content: \"▸\";float: left;margin-right: 0.25em;color: #696969;}#sk-container-id-2 label.sk-toggleable__label-arrow:hover:before {color: black;}#sk-container-id-2 div.sk-estimator:hover label.sk-toggleable__label-arrow:before {color: black;}#sk-container-id-2 div.sk-toggleable__content {max-height: 0;max-width: 0;overflow: hidden;text-align: left;background-color: #f0f8ff;}#sk-container-id-2 div.sk-toggleable__content pre {margin: 0.2em;color: black;border-radius: 0.25em;background-color: #f0f8ff;}#sk-container-id-2 input.sk-toggleable__control:checked~div.sk-toggleable__content {max-height: 200px;max-width: 100%;overflow: auto;}#sk-container-id-2 input.sk-toggleable__control:checked~label.sk-toggleable__label-arrow:before {content: \"▾\";}#sk-container-id-2 div.sk-estimator input.sk-toggleable__control:checked~label.sk-toggleable__label {background-color: #d4ebff;}#sk-container-id-2 div.sk-label input.sk-toggleable__control:checked~label.sk-toggleable__label {background-color: #d4ebff;}#sk-container-id-2 input.sk-hidden--visually {border: 0;clip: rect(1px 1px 1px 1px);clip: rect(1px, 1px, 1px, 1px);height: 1px;margin: -1px;overflow: hidden;padding: 0;position: absolute;width: 1px;}#sk-container-id-2 div.sk-estimator {font-family: monospace;background-color: #f0f8ff;border: 1px dotted black;border-radius: 0.25em;box-sizing: border-box;margin-bottom: 0.5em;}#sk-container-id-2 div.sk-estimator:hover {background-color: #d4ebff;}#sk-container-id-2 div.sk-parallel-item::after {content: \"\";width: 100%;border-bottom: 1px solid gray;flex-grow: 1;}#sk-container-id-2 div.sk-label:hover label.sk-toggleable__label {background-color: #d4ebff;}#sk-container-id-2 div.sk-serial::before {content: \"\";position: absolute;border-left: 1px solid gray;box-sizing: border-box;top: 0;bottom: 0;left: 50%;z-index: 0;}#sk-container-id-2 div.sk-serial {display: flex;flex-direction: column;align-items: center;background-color: white;padding-right: 0.2em;padding-left: 0.2em;position: relative;}#sk-container-id-2 div.sk-item {position: relative;z-index: 1;}#sk-container-id-2 div.sk-parallel {display: flex;align-items: stretch;justify-content: center;background-color: white;position: relative;}#sk-container-id-2 div.sk-item::before, #sk-container-id-2 div.sk-parallel-item::before {content: \"\";position: absolute;border-left: 1px solid gray;box-sizing: border-box;top: 0;bottom: 0;left: 50%;z-index: -1;}#sk-container-id-2 div.sk-parallel-item {display: flex;flex-direction: column;z-index: 1;position: relative;background-color: white;}#sk-container-id-2 div.sk-parallel-item:first-child::after {align-self: flex-end;width: 50%;}#sk-container-id-2 div.sk-parallel-item:last-child::after {align-self: flex-start;width: 50%;}#sk-container-id-2 div.sk-parallel-item:only-child::after {width: 0;}#sk-container-id-2 div.sk-dashed-wrapped {border: 1px dashed gray;margin: 0 0.4em 0.5em 0.4em;box-sizing: border-box;padding-bottom: 0.4em;background-color: white;}#sk-container-id-2 div.sk-label label {font-family: monospace;font-weight: bold;display: inline-block;line-height: 1.2em;}#sk-container-id-2 div.sk-label-container {text-align: center;}#sk-container-id-2 div.sk-container {/* jupyter's `normalize.less` sets `[hidden] { display: none; }` but bootstrap.min.css set `[hidden] { display: none !important; }` so we also need the `!important` here to be able to override the default hidden behavior on the sphinx rendered scikit-learn.org. See: https://github.com/scikit-learn/scikit-learn/issues/21755 */display: inline-block !important;position: relative;}#sk-container-id-2 div.sk-text-repr-fallback {display: none;}</style><div id=\"sk-container-id-2\" class=\"sk-top-container\"><div class=\"sk-text-repr-fallback\"><pre>LinearRegression()</pre><b>In a Jupyter environment, please rerun this cell to show the HTML representation or trust the notebook. <br />On GitHub, the HTML representation is unable to render, please try loading this page with nbviewer.org.</b></div><div class=\"sk-container\" hidden><div class=\"sk-item\"><div class=\"sk-estimator sk-toggleable\"><input class=\"sk-toggleable__control sk-hidden--visually\" id=\"sk-estimator-id-6\" type=\"checkbox\" checked><label for=\"sk-estimator-id-6\" class=\"sk-toggleable__label sk-toggleable__label-arrow\">LinearRegression</label><div class=\"sk-toggleable__content\"><pre>LinearRegression()</pre></div></div></div></div></div>"
      ],
      "text/plain": [
       "LinearRegression()"
      ]
     },
     "execution_count": 63,
     "metadata": {},
     "output_type": "execute_result"
    }
   ],
   "source": [
    "lin_reg.fit(X_train,y_train)"
   ]
  },
  {
   "cell_type": "code",
   "execution_count": 64,
   "id": "8ee411b0-b9f0-4791-ac4e-d5d4f2e95214",
   "metadata": {},
   "outputs": [],
   "source": [
    "pred=lin_reg.predict(X_test)"
   ]
  },
  {
   "cell_type": "code",
   "execution_count": 65,
   "id": "dedb3f7f-b085-4d37-9221-39408e781900",
   "metadata": {},
   "outputs": [
    {
     "name": "stdout",
     "output_type": "stream",
     "text": [
      "model_score: 0.41575450190770513\n"
     ]
    }
   ],
   "source": [
    "score=lin_reg.score(X_train,y_train)\n",
    "\n",
    "print('model_score:',score)"
   ]
  },
  {
   "cell_type": "code",
   "execution_count": 66,
   "id": "3be5421b-b5e9-4b4b-9ef7-a672bb5019e3",
   "metadata": {},
   "outputs": [
    {
     "data": {
      "text/plain": [
       "15653.980070306136"
      ]
     },
     "execution_count": 66,
     "metadata": {},
     "output_type": "execute_result"
    }
   ],
   "source": [
    "mse=np.mean(mean_squared_error(y_test,pred))\n",
    "mse"
   ]
  },
  {
   "cell_type": "code",
   "execution_count": 67,
   "id": "1aa926c2-53ed-4797-b53b-2f1a85a07906",
   "metadata": {},
   "outputs": [],
   "source": [
    "pipeline=make_pipeline(PolynomialFeatures(2),LinearRegression())"
   ]
  },
  {
   "cell_type": "code",
   "execution_count": 68,
   "id": "32bfe2b5-ad5b-4d21-ba68-5c3d1d8e92df",
   "metadata": {},
   "outputs": [
    {
     "data": {
      "text/html": [
       "<style>#sk-container-id-3 {color: black;}#sk-container-id-3 pre{padding: 0;}#sk-container-id-3 div.sk-toggleable {background-color: white;}#sk-container-id-3 label.sk-toggleable__label {cursor: pointer;display: block;width: 100%;margin-bottom: 0;padding: 0.3em;box-sizing: border-box;text-align: center;}#sk-container-id-3 label.sk-toggleable__label-arrow:before {content: \"▸\";float: left;margin-right: 0.25em;color: #696969;}#sk-container-id-3 label.sk-toggleable__label-arrow:hover:before {color: black;}#sk-container-id-3 div.sk-estimator:hover label.sk-toggleable__label-arrow:before {color: black;}#sk-container-id-3 div.sk-toggleable__content {max-height: 0;max-width: 0;overflow: hidden;text-align: left;background-color: #f0f8ff;}#sk-container-id-3 div.sk-toggleable__content pre {margin: 0.2em;color: black;border-radius: 0.25em;background-color: #f0f8ff;}#sk-container-id-3 input.sk-toggleable__control:checked~div.sk-toggleable__content {max-height: 200px;max-width: 100%;overflow: auto;}#sk-container-id-3 input.sk-toggleable__control:checked~label.sk-toggleable__label-arrow:before {content: \"▾\";}#sk-container-id-3 div.sk-estimator input.sk-toggleable__control:checked~label.sk-toggleable__label {background-color: #d4ebff;}#sk-container-id-3 div.sk-label input.sk-toggleable__control:checked~label.sk-toggleable__label {background-color: #d4ebff;}#sk-container-id-3 input.sk-hidden--visually {border: 0;clip: rect(1px 1px 1px 1px);clip: rect(1px, 1px, 1px, 1px);height: 1px;margin: -1px;overflow: hidden;padding: 0;position: absolute;width: 1px;}#sk-container-id-3 div.sk-estimator {font-family: monospace;background-color: #f0f8ff;border: 1px dotted black;border-radius: 0.25em;box-sizing: border-box;margin-bottom: 0.5em;}#sk-container-id-3 div.sk-estimator:hover {background-color: #d4ebff;}#sk-container-id-3 div.sk-parallel-item::after {content: \"\";width: 100%;border-bottom: 1px solid gray;flex-grow: 1;}#sk-container-id-3 div.sk-label:hover label.sk-toggleable__label {background-color: #d4ebff;}#sk-container-id-3 div.sk-serial::before {content: \"\";position: absolute;border-left: 1px solid gray;box-sizing: border-box;top: 0;bottom: 0;left: 50%;z-index: 0;}#sk-container-id-3 div.sk-serial {display: flex;flex-direction: column;align-items: center;background-color: white;padding-right: 0.2em;padding-left: 0.2em;position: relative;}#sk-container-id-3 div.sk-item {position: relative;z-index: 1;}#sk-container-id-3 div.sk-parallel {display: flex;align-items: stretch;justify-content: center;background-color: white;position: relative;}#sk-container-id-3 div.sk-item::before, #sk-container-id-3 div.sk-parallel-item::before {content: \"\";position: absolute;border-left: 1px solid gray;box-sizing: border-box;top: 0;bottom: 0;left: 50%;z-index: -1;}#sk-container-id-3 div.sk-parallel-item {display: flex;flex-direction: column;z-index: 1;position: relative;background-color: white;}#sk-container-id-3 div.sk-parallel-item:first-child::after {align-self: flex-end;width: 50%;}#sk-container-id-3 div.sk-parallel-item:last-child::after {align-self: flex-start;width: 50%;}#sk-container-id-3 div.sk-parallel-item:only-child::after {width: 0;}#sk-container-id-3 div.sk-dashed-wrapped {border: 1px dashed gray;margin: 0 0.4em 0.5em 0.4em;box-sizing: border-box;padding-bottom: 0.4em;background-color: white;}#sk-container-id-3 div.sk-label label {font-family: monospace;font-weight: bold;display: inline-block;line-height: 1.2em;}#sk-container-id-3 div.sk-label-container {text-align: center;}#sk-container-id-3 div.sk-container {/* jupyter's `normalize.less` sets `[hidden] { display: none; }` but bootstrap.min.css set `[hidden] { display: none !important; }` so we also need the `!important` here to be able to override the default hidden behavior on the sphinx rendered scikit-learn.org. See: https://github.com/scikit-learn/scikit-learn/issues/21755 */display: inline-block !important;position: relative;}#sk-container-id-3 div.sk-text-repr-fallback {display: none;}</style><div id=\"sk-container-id-3\" class=\"sk-top-container\"><div class=\"sk-text-repr-fallback\"><pre>Pipeline(steps=[(&#x27;polynomialfeatures&#x27;, PolynomialFeatures()),\n",
       "                (&#x27;linearregression&#x27;, LinearRegression())])</pre><b>In a Jupyter environment, please rerun this cell to show the HTML representation or trust the notebook. <br />On GitHub, the HTML representation is unable to render, please try loading this page with nbviewer.org.</b></div><div class=\"sk-container\" hidden><div class=\"sk-item sk-dashed-wrapped\"><div class=\"sk-label-container\"><div class=\"sk-label sk-toggleable\"><input class=\"sk-toggleable__control sk-hidden--visually\" id=\"sk-estimator-id-7\" type=\"checkbox\" ><label for=\"sk-estimator-id-7\" class=\"sk-toggleable__label sk-toggleable__label-arrow\">Pipeline</label><div class=\"sk-toggleable__content\"><pre>Pipeline(steps=[(&#x27;polynomialfeatures&#x27;, PolynomialFeatures()),\n",
       "                (&#x27;linearregression&#x27;, LinearRegression())])</pre></div></div></div><div class=\"sk-serial\"><div class=\"sk-item\"><div class=\"sk-estimator sk-toggleable\"><input class=\"sk-toggleable__control sk-hidden--visually\" id=\"sk-estimator-id-8\" type=\"checkbox\" ><label for=\"sk-estimator-id-8\" class=\"sk-toggleable__label sk-toggleable__label-arrow\">PolynomialFeatures</label><div class=\"sk-toggleable__content\"><pre>PolynomialFeatures()</pre></div></div></div><div class=\"sk-item\"><div class=\"sk-estimator sk-toggleable\"><input class=\"sk-toggleable__control sk-hidden--visually\" id=\"sk-estimator-id-9\" type=\"checkbox\" ><label for=\"sk-estimator-id-9\" class=\"sk-toggleable__label sk-toggleable__label-arrow\">LinearRegression</label><div class=\"sk-toggleable__content\"><pre>LinearRegression()</pre></div></div></div></div></div></div></div>"
      ],
      "text/plain": [
       "Pipeline(steps=[('polynomialfeatures', PolynomialFeatures()),\n",
       "                ('linearregression', LinearRegression())])"
      ]
     },
     "execution_count": 68,
     "metadata": {},
     "output_type": "execute_result"
    }
   ],
   "source": [
    "pipeline.fit(X_train,y_train)"
   ]
  },
  {
   "cell_type": "code",
   "execution_count": 69,
   "id": "b3c33457-8472-4b3e-9b31-d1617d189575",
   "metadata": {},
   "outputs": [],
   "source": [
    "predict=pipeline.predict(X_test)"
   ]
  },
  {
   "cell_type": "code",
   "execution_count": 70,
   "id": "6f754843-7e10-4a46-8788-1f733d95a577",
   "metadata": {},
   "outputs": [
    {
     "name": "stdout",
     "output_type": "stream",
     "text": [
      "model_score: 0.6178578812878058\n"
     ]
    }
   ],
   "source": [
    "poly_score=pipeline.score(X_train,y_train)\n",
    "\n",
    "print('model_score:',poly_score)"
   ]
  },
  {
   "cell_type": "code",
   "execution_count": 71,
   "id": "ec55339d-2bd0-4f03-bcde-cbf2a2773aae",
   "metadata": {},
   "outputs": [],
   "source": [
    "def predict_price(location, total_sqft, bath, bhk):\n",
    "    global X  # Use your actual DataFrame\n",
    "    loc_index = X.columns.get_loc(location)\n",
    "\n",
    "    # Initialize feature values\n",
    "    X = pd.DataFrame(0, index=[0], columns=X.columns)\n",
    "    X['total_sqft'] = total_sqft\n",
    "    X['bath'] = bath\n",
    "    X['bhk'] = bhk\n",
    "\n",
    "    if loc_index >= 0:\n",
    "        X[location] = 1\n",
    "\n",
    "    return pipeline.predict(X)[0]"
   ]
  },
  {
   "cell_type": "code",
   "execution_count": 72,
   "id": "333c0d47-641a-431d-b762-c8655a59d407",
   "metadata": {},
   "outputs": [
    {
     "data": {
      "text/plain": [
       "199.48532077670097"
      ]
     },
     "execution_count": 72,
     "metadata": {},
     "output_type": "execute_result"
    }
   ],
   "source": [
    "predict_price('cat__location_1st Phase JP Nagar',1440,2,3)"
   ]
  },
  {
   "cell_type": "code",
   "execution_count": 73,
   "id": "7555c8e7-fe09-4533-ac33-3dbc18c85f3d",
   "metadata": {},
   "outputs": [
    {
     "data": {
      "text/plain": [
       "Index(['ord__area_type', 'cat__location_1st Block Jayanagar',\n",
       "       'cat__location_1st Phase JP Nagar',\n",
       "       'cat__location_2nd Stage Nagarbhavi',\n",
       "       'cat__location_5th Phase JP Nagar', 'cat__location_6th Phase JP Nagar',\n",
       "       'cat__location_7th Phase JP Nagar', 'cat__location_8th Phase JP Nagar',\n",
       "       'cat__location_9th Phase JP Nagar', 'cat__location_Abbigere',\n",
       "       ...\n",
       "       'cat__location_Vittasandra', 'cat__location_Whitefield',\n",
       "       'cat__location_Yelachenahalli', 'cat__location_Yelahanka',\n",
       "       'cat__location_Yelahanka New Town', 'cat__location_Yeshwanthpur',\n",
       "       'cat__location_other', 'total_sqft', 'bath', 'bhk'],\n",
       "      dtype='object', length=162)"
      ]
     },
     "execution_count": 73,
     "metadata": {},
     "output_type": "execute_result"
    }
   ],
   "source": [
    "X.columns"
   ]
  },
  {
   "cell_type": "code",
   "execution_count": 74,
   "id": "74232ea5-5561-4f41-8fd1-412a0a01ad2b",
   "metadata": {},
   "outputs": [
    {
     "data": {
      "text/plain": [
       "66.34708553552628"
      ]
     },
     "execution_count": 74,
     "metadata": {},
     "output_type": "execute_result"
    }
   ],
   "source": [
    "predict_price('cat__location_Whitefield',1000,2,2)"
   ]
  },
  {
   "cell_type": "code",
   "execution_count": 75,
   "id": "360b4566-ebd7-46fa-8663-000a7e5e6729",
   "metadata": {},
   "outputs": [
    {
     "data": {
      "text/plain": [
       "72.87869879603386"
      ]
     },
     "execution_count": 75,
     "metadata": {},
     "output_type": "execute_result"
    }
   ],
   "source": [
    "predict_price(\"cat__location_Uttarahalli\",1440,2,3)"
   ]
  },
  {
   "cell_type": "code",
   "execution_count": 76,
   "id": "dddbcc62-2d01-4ebf-b19a-2155275f24b6",
   "metadata": {},
   "outputs": [
    {
     "data": {
      "text/plain": [
       "95.22089737653732"
      ]
     },
     "execution_count": 76,
     "metadata": {},
     "output_type": "execute_result"
    }
   ],
   "source": [
    "predict_price(\"cat__location_Lingadheeranahalli\",1521.000000,3.0,3.0)"
   ]
  },
  {
   "cell_type": "code",
   "execution_count": 77,
   "id": "657c80b7-e841-4374-a753-bd341213d557",
   "metadata": {},
   "outputs": [
    {
     "data": {
      "text/plain": [
       "201.47664639353752"
      ]
     },
     "execution_count": 77,
     "metadata": {},
     "output_type": "execute_result"
    }
   ],
   "source": [
    "predict_price(\"cat__location_Old Airport Road\",910,4,4)"
   ]
  },
  {
   "cell_type": "code",
   "execution_count": 78,
   "id": "6d463410-1373-4d82-a408-eb300c05d18e",
   "metadata": {},
   "outputs": [
    {
     "data": {
      "text/plain": [
       "136.9039282798767"
      ]
     },
     "execution_count": 78,
     "metadata": {},
     "output_type": "execute_result"
    }
   ],
   "source": [
    "predict_price(\"cat__location_Old Airport Road\",910,3,3)"
   ]
  },
  {
   "cell_type": "markdown",
   "id": "89562270-8042-4812-b3ca-14812472faa3",
   "metadata": {},
   "source": [
    "To export the model"
   ]
  },
  {
   "cell_type": "code",
   "execution_count": 79,
   "id": "3d423afa-684c-40a5-a47d-1d2700a5fccb",
   "metadata": {},
   "outputs": [
    {
     "name": "stdout",
     "output_type": "stream",
     "text": [
      "Requirement already satisfied: pickles in c:\\users\\user\\anaconda3\\lib\\site-packages (0.1.1)\n",
      "Note: you may need to restart the kernel to use updated packages.\n"
     ]
    }
   ],
   "source": [
    "pip install pickles"
   ]
  },
  {
   "cell_type": "markdown",
   "id": "799e6f97-9b4a-4776-8ba6-2704268429a4",
   "metadata": {},
   "source": [
    "### import pickle\n",
    "### with open('bengaluru_home_price_model.pickle','wb')as f:\n",
    "    pickle.dump(pipeline,f)\n"
   ]
  },
  {
   "cell_type": "code",
   "execution_count": 82,
   "id": "3db596f4-ed0d-4b8a-90f5-a1bc9db46964",
   "metadata": {},
   "outputs": [],
   "source": [
    "new_data.to_csv(r\"C:\\Users\\USER\\OneDrive\\Documents\\SQL PORTFOLIO PROJECTS\\ML deployment\\ml_data.csv\")"
   ]
  },
  {
   "cell_type": "code",
   "execution_count": 83,
   "id": "e2d3e2e4-65cb-4042-89b4-0abf12077bac",
   "metadata": {},
   "outputs": [],
   "source": [
    "pickle.dump(pipeline,open('model.pkl',\"wb\"))"
   ]
  },
  {
   "cell_type": "markdown",
   "id": "f18f1931-037d-4aea-8a79-b8757dc7c451",
   "metadata": {},
   "source": [
    "### both method for putting the model into a pickle file  works "
   ]
  },
  {
   "cell_type": "code",
   "execution_count": null,
   "id": "6a028512-ae90-4135-8f4f-6847f422f73d",
   "metadata": {},
   "outputs": [],
   "source": []
  }
 ],
 "metadata": {
  "kernelspec": {
   "display_name": "Python 3 (ipykernel)",
   "language": "python",
   "name": "python3"
  },
  "language_info": {
   "codemirror_mode": {
    "name": "ipython",
    "version": 3
   },
   "file_extension": ".py",
   "mimetype": "text/x-python",
   "name": "python",
   "nbconvert_exporter": "python",
   "pygments_lexer": "ipython3",
   "version": "3.11.5"
  }
 },
 "nbformat": 4,
 "nbformat_minor": 5
}
