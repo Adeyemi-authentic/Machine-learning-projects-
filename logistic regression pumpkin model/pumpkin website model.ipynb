{
 "cells": [
  {
   "cell_type": "code",
   "execution_count": 1,
   "id": "5e22d82f-55b6-484e-be25-be380c7a52d6",
   "metadata": {},
   "outputs": [],
   "source": [
    "import pandas as pd\n",
    "import numpy as np"
   ]
  },
  {
   "cell_type": "code",
   "execution_count": 2,
   "id": "bcc90099-6a6a-483d-93fc-d5c0f014cfe2",
   "metadata": {},
   "outputs": [
    {
     "data": {
      "text/html": [
       "<div>\n",
       "<style scoped>\n",
       "    .dataframe tbody tr th:only-of-type {\n",
       "        vertical-align: middle;\n",
       "    }\n",
       "\n",
       "    .dataframe tbody tr th {\n",
       "        vertical-align: top;\n",
       "    }\n",
       "\n",
       "    .dataframe thead th {\n",
       "        text-align: right;\n",
       "    }\n",
       "</style>\n",
       "<table border=\"1\" class=\"dataframe\">\n",
       "  <thead>\n",
       "    <tr style=\"text-align: right;\">\n",
       "      <th></th>\n",
       "      <th>City Name</th>\n",
       "      <th>Type</th>\n",
       "      <th>Package</th>\n",
       "      <th>Variety</th>\n",
       "      <th>Sub Variety</th>\n",
       "      <th>Grade</th>\n",
       "      <th>Date</th>\n",
       "      <th>Low Price</th>\n",
       "      <th>High Price</th>\n",
       "      <th>Mostly Low</th>\n",
       "      <th>...</th>\n",
       "      <th>Unit of Sale</th>\n",
       "      <th>Quality</th>\n",
       "      <th>Condition</th>\n",
       "      <th>Appearance</th>\n",
       "      <th>Storage</th>\n",
       "      <th>Crop</th>\n",
       "      <th>Repack</th>\n",
       "      <th>Trans Mode</th>\n",
       "      <th>Unnamed: 24</th>\n",
       "      <th>Unnamed: 25</th>\n",
       "    </tr>\n",
       "  </thead>\n",
       "  <tbody>\n",
       "    <tr>\n",
       "      <th>0</th>\n",
       "      <td>BALTIMORE</td>\n",
       "      <td>NaN</td>\n",
       "      <td>23 inch bins</td>\n",
       "      <td>NaN</td>\n",
       "      <td>NaN</td>\n",
       "      <td>NaN</td>\n",
       "      <td>4/29/2017</td>\n",
       "      <td>270.0</td>\n",
       "      <td>280.0</td>\n",
       "      <td>270.0</td>\n",
       "      <td>...</td>\n",
       "      <td>NaN</td>\n",
       "      <td>NaN</td>\n",
       "      <td>NaN</td>\n",
       "      <td>NaN</td>\n",
       "      <td>NaN</td>\n",
       "      <td>NaN</td>\n",
       "      <td>E</td>\n",
       "      <td>NaN</td>\n",
       "      <td>NaN</td>\n",
       "      <td>NaN</td>\n",
       "    </tr>\n",
       "    <tr>\n",
       "      <th>1</th>\n",
       "      <td>BALTIMORE</td>\n",
       "      <td>NaN</td>\n",
       "      <td>24 inch bins</td>\n",
       "      <td>NaN</td>\n",
       "      <td>NaN</td>\n",
       "      <td>NaN</td>\n",
       "      <td>5/6/2017</td>\n",
       "      <td>270.0</td>\n",
       "      <td>280.0</td>\n",
       "      <td>270.0</td>\n",
       "      <td>...</td>\n",
       "      <td>NaN</td>\n",
       "      <td>NaN</td>\n",
       "      <td>NaN</td>\n",
       "      <td>NaN</td>\n",
       "      <td>NaN</td>\n",
       "      <td>NaN</td>\n",
       "      <td>E</td>\n",
       "      <td>NaN</td>\n",
       "      <td>NaN</td>\n",
       "      <td>NaN</td>\n",
       "    </tr>\n",
       "    <tr>\n",
       "      <th>2</th>\n",
       "      <td>BALTIMORE</td>\n",
       "      <td>NaN</td>\n",
       "      <td>24 inch bins</td>\n",
       "      <td>HOWDEN TYPE</td>\n",
       "      <td>NaN</td>\n",
       "      <td>NaN</td>\n",
       "      <td>9/24/2016</td>\n",
       "      <td>160.0</td>\n",
       "      <td>160.0</td>\n",
       "      <td>160.0</td>\n",
       "      <td>...</td>\n",
       "      <td>NaN</td>\n",
       "      <td>NaN</td>\n",
       "      <td>NaN</td>\n",
       "      <td>NaN</td>\n",
       "      <td>NaN</td>\n",
       "      <td>NaN</td>\n",
       "      <td>N</td>\n",
       "      <td>NaN</td>\n",
       "      <td>NaN</td>\n",
       "      <td>NaN</td>\n",
       "    </tr>\n",
       "    <tr>\n",
       "      <th>3</th>\n",
       "      <td>BALTIMORE</td>\n",
       "      <td>NaN</td>\n",
       "      <td>24 inch bins</td>\n",
       "      <td>HOWDEN TYPE</td>\n",
       "      <td>NaN</td>\n",
       "      <td>NaN</td>\n",
       "      <td>9/24/2016</td>\n",
       "      <td>160.0</td>\n",
       "      <td>160.0</td>\n",
       "      <td>160.0</td>\n",
       "      <td>...</td>\n",
       "      <td>NaN</td>\n",
       "      <td>NaN</td>\n",
       "      <td>NaN</td>\n",
       "      <td>NaN</td>\n",
       "      <td>NaN</td>\n",
       "      <td>NaN</td>\n",
       "      <td>N</td>\n",
       "      <td>NaN</td>\n",
       "      <td>NaN</td>\n",
       "      <td>NaN</td>\n",
       "    </tr>\n",
       "    <tr>\n",
       "      <th>4</th>\n",
       "      <td>BALTIMORE</td>\n",
       "      <td>NaN</td>\n",
       "      <td>24 inch bins</td>\n",
       "      <td>HOWDEN TYPE</td>\n",
       "      <td>NaN</td>\n",
       "      <td>NaN</td>\n",
       "      <td>11/5/2016</td>\n",
       "      <td>90.0</td>\n",
       "      <td>100.0</td>\n",
       "      <td>90.0</td>\n",
       "      <td>...</td>\n",
       "      <td>NaN</td>\n",
       "      <td>NaN</td>\n",
       "      <td>NaN</td>\n",
       "      <td>NaN</td>\n",
       "      <td>NaN</td>\n",
       "      <td>NaN</td>\n",
       "      <td>N</td>\n",
       "      <td>NaN</td>\n",
       "      <td>NaN</td>\n",
       "      <td>NaN</td>\n",
       "    </tr>\n",
       "  </tbody>\n",
       "</table>\n",
       "<p>5 rows × 26 columns</p>\n",
       "</div>"
      ],
      "text/plain": [
       "   City Name Type       Package      Variety Sub Variety  Grade       Date  \\\n",
       "0  BALTIMORE  NaN  23 inch bins          NaN         NaN    NaN  4/29/2017   \n",
       "1  BALTIMORE  NaN  24 inch bins          NaN         NaN    NaN   5/6/2017   \n",
       "2  BALTIMORE  NaN  24 inch bins  HOWDEN TYPE         NaN    NaN  9/24/2016   \n",
       "3  BALTIMORE  NaN  24 inch bins  HOWDEN TYPE         NaN    NaN  9/24/2016   \n",
       "4  BALTIMORE  NaN  24 inch bins  HOWDEN TYPE         NaN    NaN  11/5/2016   \n",
       "\n",
       "   Low Price  High Price  Mostly Low  ...  Unit of Sale Quality Condition  \\\n",
       "0      270.0       280.0       270.0  ...           NaN     NaN       NaN   \n",
       "1      270.0       280.0       270.0  ...           NaN     NaN       NaN   \n",
       "2      160.0       160.0       160.0  ...           NaN     NaN       NaN   \n",
       "3      160.0       160.0       160.0  ...           NaN     NaN       NaN   \n",
       "4       90.0       100.0        90.0  ...           NaN     NaN       NaN   \n",
       "\n",
       "  Appearance Storage  Crop Repack  Trans Mode  Unnamed: 24  Unnamed: 25  \n",
       "0        NaN     NaN   NaN      E         NaN          NaN          NaN  \n",
       "1        NaN     NaN   NaN      E         NaN          NaN          NaN  \n",
       "2        NaN     NaN   NaN      N         NaN          NaN          NaN  \n",
       "3        NaN     NaN   NaN      N         NaN          NaN          NaN  \n",
       "4        NaN     NaN   NaN      N         NaN          NaN          NaN  \n",
       "\n",
       "[5 rows x 26 columns]"
      ]
     },
     "execution_count": 2,
     "metadata": {},
     "output_type": "execute_result"
    }
   ],
   "source": [
    "data=pd.read_csv(r\"C:\\Users\\USER\\OneDrive\\Documents\\pumpkin.csv\")\n",
    "data.head()"
   ]
  },
  {
   "cell_type": "code",
   "execution_count": 3,
   "id": "4224e949-20ff-4dfe-9c7f-9237135676e9",
   "metadata": {},
   "outputs": [],
   "source": [
    "data=data[data['Package'].str.contains('bushel',case=True,regex=True)]"
   ]
  },
  {
   "cell_type": "code",
   "execution_count": 4,
   "id": "b7ae1bf7-e55c-48ac-b68a-525ef3718264",
   "metadata": {},
   "outputs": [
    {
     "data": {
      "text/html": [
       "<div>\n",
       "<style scoped>\n",
       "    .dataframe tbody tr th:only-of-type {\n",
       "        vertical-align: middle;\n",
       "    }\n",
       "\n",
       "    .dataframe tbody tr th {\n",
       "        vertical-align: top;\n",
       "    }\n",
       "\n",
       "    .dataframe thead th {\n",
       "        text-align: right;\n",
       "    }\n",
       "</style>\n",
       "<table border=\"1\" class=\"dataframe\">\n",
       "  <thead>\n",
       "    <tr style=\"text-align: right;\">\n",
       "      <th></th>\n",
       "      <th>City Name</th>\n",
       "      <th>Type</th>\n",
       "      <th>Package</th>\n",
       "      <th>Variety</th>\n",
       "      <th>Sub Variety</th>\n",
       "      <th>Grade</th>\n",
       "      <th>Date</th>\n",
       "      <th>Low Price</th>\n",
       "      <th>High Price</th>\n",
       "      <th>Mostly Low</th>\n",
       "      <th>...</th>\n",
       "      <th>Unit of Sale</th>\n",
       "      <th>Quality</th>\n",
       "      <th>Condition</th>\n",
       "      <th>Appearance</th>\n",
       "      <th>Storage</th>\n",
       "      <th>Crop</th>\n",
       "      <th>Repack</th>\n",
       "      <th>Trans Mode</th>\n",
       "      <th>Unnamed: 24</th>\n",
       "      <th>Unnamed: 25</th>\n",
       "    </tr>\n",
       "  </thead>\n",
       "  <tbody>\n",
       "    <tr>\n",
       "      <th>70</th>\n",
       "      <td>BALTIMORE</td>\n",
       "      <td>NaN</td>\n",
       "      <td>1 1/9 bushel cartons</td>\n",
       "      <td>PIE TYPE</td>\n",
       "      <td>NaN</td>\n",
       "      <td>NaN</td>\n",
       "      <td>9/24/2016</td>\n",
       "      <td>15.0</td>\n",
       "      <td>15.0</td>\n",
       "      <td>15.0</td>\n",
       "      <td>...</td>\n",
       "      <td>NaN</td>\n",
       "      <td>NaN</td>\n",
       "      <td>NaN</td>\n",
       "      <td>NaN</td>\n",
       "      <td>NaN</td>\n",
       "      <td>NaN</td>\n",
       "      <td>N</td>\n",
       "      <td>NaN</td>\n",
       "      <td>NaN</td>\n",
       "      <td>NaN</td>\n",
       "    </tr>\n",
       "    <tr>\n",
       "      <th>71</th>\n",
       "      <td>BALTIMORE</td>\n",
       "      <td>NaN</td>\n",
       "      <td>1 1/9 bushel cartons</td>\n",
       "      <td>PIE TYPE</td>\n",
       "      <td>NaN</td>\n",
       "      <td>NaN</td>\n",
       "      <td>9/24/2016</td>\n",
       "      <td>18.0</td>\n",
       "      <td>18.0</td>\n",
       "      <td>18.0</td>\n",
       "      <td>...</td>\n",
       "      <td>NaN</td>\n",
       "      <td>NaN</td>\n",
       "      <td>NaN</td>\n",
       "      <td>NaN</td>\n",
       "      <td>NaN</td>\n",
       "      <td>NaN</td>\n",
       "      <td>N</td>\n",
       "      <td>NaN</td>\n",
       "      <td>NaN</td>\n",
       "      <td>NaN</td>\n",
       "    </tr>\n",
       "  </tbody>\n",
       "</table>\n",
       "<p>2 rows × 26 columns</p>\n",
       "</div>"
      ],
      "text/plain": [
       "    City Name Type               Package   Variety Sub Variety  Grade  \\\n",
       "70  BALTIMORE  NaN  1 1/9 bushel cartons  PIE TYPE         NaN    NaN   \n",
       "71  BALTIMORE  NaN  1 1/9 bushel cartons  PIE TYPE         NaN    NaN   \n",
       "\n",
       "         Date  Low Price  High Price  Mostly Low  ...  Unit of Sale Quality  \\\n",
       "70  9/24/2016       15.0        15.0        15.0  ...           NaN     NaN   \n",
       "71  9/24/2016       18.0        18.0        18.0  ...           NaN     NaN   \n",
       "\n",
       "   Condition Appearance Storage  Crop Repack  Trans Mode  Unnamed: 24  \\\n",
       "70       NaN        NaN     NaN   NaN      N         NaN          NaN   \n",
       "71       NaN        NaN     NaN   NaN      N         NaN          NaN   \n",
       "\n",
       "    Unnamed: 25  \n",
       "70          NaN  \n",
       "71          NaN  \n",
       "\n",
       "[2 rows x 26 columns]"
      ]
     },
     "execution_count": 4,
     "metadata": {},
     "output_type": "execute_result"
    }
   ],
   "source": [
    "data.head(2)"
   ]
  },
  {
   "cell_type": "code",
   "execution_count": 5,
   "id": "01226ded-16ce-4f3b-a233-faf7924fa1fc",
   "metadata": {},
   "outputs": [
    {
     "data": {
      "text/html": [
       "<div>\n",
       "<style scoped>\n",
       "    .dataframe tbody tr th:only-of-type {\n",
       "        vertical-align: middle;\n",
       "    }\n",
       "\n",
       "    .dataframe tbody tr th {\n",
       "        vertical-align: top;\n",
       "    }\n",
       "\n",
       "    .dataframe thead th {\n",
       "        text-align: right;\n",
       "    }\n",
       "</style>\n",
       "<table border=\"1\" class=\"dataframe\">\n",
       "  <thead>\n",
       "    <tr style=\"text-align: right;\">\n",
       "      <th></th>\n",
       "      <th>City Name</th>\n",
       "      <th>Package</th>\n",
       "      <th>Variety</th>\n",
       "      <th>Date</th>\n",
       "      <th>Low Price</th>\n",
       "      <th>High Price</th>\n",
       "    </tr>\n",
       "  </thead>\n",
       "  <tbody>\n",
       "    <tr>\n",
       "      <th>70</th>\n",
       "      <td>BALTIMORE</td>\n",
       "      <td>1 1/9 bushel cartons</td>\n",
       "      <td>PIE TYPE</td>\n",
       "      <td>9/24/2016</td>\n",
       "      <td>15.0</td>\n",
       "      <td>15.0</td>\n",
       "    </tr>\n",
       "    <tr>\n",
       "      <th>71</th>\n",
       "      <td>BALTIMORE</td>\n",
       "      <td>1 1/9 bushel cartons</td>\n",
       "      <td>PIE TYPE</td>\n",
       "      <td>9/24/2016</td>\n",
       "      <td>18.0</td>\n",
       "      <td>18.0</td>\n",
       "    </tr>\n",
       "    <tr>\n",
       "      <th>72</th>\n",
       "      <td>BALTIMORE</td>\n",
       "      <td>1 1/9 bushel cartons</td>\n",
       "      <td>PIE TYPE</td>\n",
       "      <td>10/1/2016</td>\n",
       "      <td>18.0</td>\n",
       "      <td>18.0</td>\n",
       "    </tr>\n",
       "  </tbody>\n",
       "</table>\n",
       "</div>"
      ],
      "text/plain": [
       "    City Name               Package   Variety       Date  Low Price  \\\n",
       "70  BALTIMORE  1 1/9 bushel cartons  PIE TYPE  9/24/2016       15.0   \n",
       "71  BALTIMORE  1 1/9 bushel cartons  PIE TYPE  9/24/2016       18.0   \n",
       "72  BALTIMORE  1 1/9 bushel cartons  PIE TYPE  10/1/2016       18.0   \n",
       "\n",
       "    High Price  \n",
       "70        15.0  \n",
       "71        18.0  \n",
       "72        18.0  "
      ]
     },
     "execution_count": 5,
     "metadata": {},
     "output_type": "execute_result"
    }
   ],
   "source": [
    "columns_needed=['City Name','Package','Variety','Date','Low Price','High Price']\n",
    "\n",
    "data= data.drop([x for x in data.columns if x not in columns_needed],axis='columns')\n",
    "\n",
    "data.head(3)"
   ]
  },
  {
   "cell_type": "code",
   "execution_count": 6,
   "id": "70e98e16-559e-44b3-9e3e-6d618149fc55",
   "metadata": {},
   "outputs": [
    {
     "data": {
      "text/plain": [
       "0"
      ]
     },
     "execution_count": 6,
     "metadata": {},
     "output_type": "execute_result"
    }
   ],
   "source": [
    "data.isna().any().sum()"
   ]
  },
  {
   "cell_type": "code",
   "execution_count": 7,
   "id": "792f0956-3d60-4e15-b5be-f31484b7d2d8",
   "metadata": {},
   "outputs": [
    {
     "data": {
      "text/plain": [
       "City Name     0\n",
       "Package       0\n",
       "Variety       0\n",
       "Date          0\n",
       "Low Price     0\n",
       "High Price    0\n",
       "dtype: int64"
      ]
     },
     "execution_count": 7,
     "metadata": {},
     "output_type": "execute_result"
    }
   ],
   "source": [
    "data.isnull().sum()"
   ]
  },
  {
   "cell_type": "code",
   "execution_count": 8,
   "id": "e14b3800-2630-4ac0-a094-8693f2bb18ff",
   "metadata": {},
   "outputs": [],
   "source": [
    "data['price']=(data['High Price'] + data['Low Price'])/2"
   ]
  },
  {
   "cell_type": "code",
   "execution_count": 9,
   "id": "a4eb3b55-4154-407c-bab0-2c21746fe8a2",
   "metadata": {},
   "outputs": [
    {
     "data": {
      "text/html": [
       "<div>\n",
       "<style scoped>\n",
       "    .dataframe tbody tr th:only-of-type {\n",
       "        vertical-align: middle;\n",
       "    }\n",
       "\n",
       "    .dataframe tbody tr th {\n",
       "        vertical-align: top;\n",
       "    }\n",
       "\n",
       "    .dataframe thead th {\n",
       "        text-align: right;\n",
       "    }\n",
       "</style>\n",
       "<table border=\"1\" class=\"dataframe\">\n",
       "  <thead>\n",
       "    <tr style=\"text-align: right;\">\n",
       "      <th></th>\n",
       "      <th>City Name</th>\n",
       "      <th>Package</th>\n",
       "      <th>Variety</th>\n",
       "      <th>Date</th>\n",
       "      <th>Low Price</th>\n",
       "      <th>High Price</th>\n",
       "      <th>price</th>\n",
       "    </tr>\n",
       "  </thead>\n",
       "  <tbody>\n",
       "    <tr>\n",
       "      <th>70</th>\n",
       "      <td>BALTIMORE</td>\n",
       "      <td>1 1/9 bushel cartons</td>\n",
       "      <td>PIE TYPE</td>\n",
       "      <td>9/24/2016</td>\n",
       "      <td>15.0</td>\n",
       "      <td>15.0</td>\n",
       "      <td>15.0</td>\n",
       "    </tr>\n",
       "    <tr>\n",
       "      <th>71</th>\n",
       "      <td>BALTIMORE</td>\n",
       "      <td>1 1/9 bushel cartons</td>\n",
       "      <td>PIE TYPE</td>\n",
       "      <td>9/24/2016</td>\n",
       "      <td>18.0</td>\n",
       "      <td>18.0</td>\n",
       "      <td>18.0</td>\n",
       "    </tr>\n",
       "  </tbody>\n",
       "</table>\n",
       "</div>"
      ],
      "text/plain": [
       "    City Name               Package   Variety       Date  Low Price  \\\n",
       "70  BALTIMORE  1 1/9 bushel cartons  PIE TYPE  9/24/2016       15.0   \n",
       "71  BALTIMORE  1 1/9 bushel cartons  PIE TYPE  9/24/2016       18.0   \n",
       "\n",
       "    High Price  price  \n",
       "70        15.0   15.0  \n",
       "71        18.0   18.0  "
      ]
     },
     "execution_count": 9,
     "metadata": {},
     "output_type": "execute_result"
    }
   ],
   "source": [
    "data.head(2)"
   ]
  },
  {
   "cell_type": "code",
   "execution_count": 10,
   "id": "003eb4b5-5608-4d44-bd59-4c56b777ced2",
   "metadata": {},
   "outputs": [
    {
     "data": {
      "text/html": [
       "<div>\n",
       "<style scoped>\n",
       "    .dataframe tbody tr th:only-of-type {\n",
       "        vertical-align: middle;\n",
       "    }\n",
       "\n",
       "    .dataframe tbody tr th {\n",
       "        vertical-align: top;\n",
       "    }\n",
       "\n",
       "    .dataframe thead th {\n",
       "        text-align: right;\n",
       "    }\n",
       "</style>\n",
       "<table border=\"1\" class=\"dataframe\">\n",
       "  <thead>\n",
       "    <tr style=\"text-align: right;\">\n",
       "      <th></th>\n",
       "      <th>City</th>\n",
       "      <th>Package</th>\n",
       "      <th>Variety</th>\n",
       "      <th>High Price</th>\n",
       "      <th>Low Price</th>\n",
       "      <th>Price</th>\n",
       "      <th>Date</th>\n",
       "    </tr>\n",
       "  </thead>\n",
       "  <tbody>\n",
       "    <tr>\n",
       "      <th>70</th>\n",
       "      <td>BALTIMORE</td>\n",
       "      <td>1 1/9 bushel cartons</td>\n",
       "      <td>PIE TYPE</td>\n",
       "      <td>15.0</td>\n",
       "      <td>15.0</td>\n",
       "      <td>15.0</td>\n",
       "      <td>9/24/2016</td>\n",
       "    </tr>\n",
       "    <tr>\n",
       "      <th>71</th>\n",
       "      <td>BALTIMORE</td>\n",
       "      <td>1 1/9 bushel cartons</td>\n",
       "      <td>PIE TYPE</td>\n",
       "      <td>18.0</td>\n",
       "      <td>18.0</td>\n",
       "      <td>18.0</td>\n",
       "      <td>9/24/2016</td>\n",
       "    </tr>\n",
       "    <tr>\n",
       "      <th>72</th>\n",
       "      <td>BALTIMORE</td>\n",
       "      <td>1 1/9 bushel cartons</td>\n",
       "      <td>PIE TYPE</td>\n",
       "      <td>18.0</td>\n",
       "      <td>18.0</td>\n",
       "      <td>18.0</td>\n",
       "      <td>10/1/2016</td>\n",
       "    </tr>\n",
       "  </tbody>\n",
       "</table>\n",
       "</div>"
      ],
      "text/plain": [
       "         City               Package   Variety  High Price  Low Price  Price  \\\n",
       "70  BALTIMORE  1 1/9 bushel cartons  PIE TYPE        15.0       15.0   15.0   \n",
       "71  BALTIMORE  1 1/9 bushel cartons  PIE TYPE        18.0       18.0   18.0   \n",
       "72  BALTIMORE  1 1/9 bushel cartons  PIE TYPE        18.0       18.0   18.0   \n",
       "\n",
       "         Date  \n",
       "70  9/24/2016  \n",
       "71  9/24/2016  \n",
       "72  10/1/2016  "
      ]
     },
     "execution_count": 10,
     "metadata": {},
     "output_type": "execute_result"
    }
   ],
   "source": [
    "new_data=pd.DataFrame({'City':data['City Name'],'Package':data['Package'],'Variety':data['Variety'],'High Price':data['High Price'],'Low Price':data['Low Price'],'Price':data['price'],'Date':data['Date']})\n",
    "\n",
    "new_data.head(3)"
   ]
  },
  {
   "cell_type": "code",
   "execution_count": 11,
   "id": "a326e9ee-1dd9-46bc-8756-77f5028af119",
   "metadata": {},
   "outputs": [
    {
     "data": {
      "text/plain": [
       "City          0\n",
       "Package       0\n",
       "Variety       0\n",
       "High Price    0\n",
       "Low Price     0\n",
       "Price         0\n",
       "Date          0\n",
       "dtype: int64"
      ]
     },
     "execution_count": 11,
     "metadata": {},
     "output_type": "execute_result"
    }
   ],
   "source": [
    "new_data.isna().sum()"
   ]
  },
  {
   "cell_type": "code",
   "execution_count": 12,
   "id": "3ada7df2-acb6-4e36-8ca8-3df215f61544",
   "metadata": {},
   "outputs": [],
   "source": [
    "new_data.loc[new_data['Package'].str.contains('1 1/9'),'Price']= new_data['Price']/(1 + 1/9)"
   ]
  },
  {
   "cell_type": "code",
   "execution_count": 13,
   "id": "2f2f8c6b-68e1-4a34-8108-dfc3d6837cac",
   "metadata": {},
   "outputs": [],
   "source": [
    "new_data.loc[new_data['Package'].str.contains('1/2'),'Price']= new_data['Price']/(1/2)"
   ]
  },
  {
   "cell_type": "code",
   "execution_count": 14,
   "id": "58f8f7fd-9ca0-4136-9736-ccbb5a29df24",
   "metadata": {},
   "outputs": [
    {
     "data": {
      "text/html": [
       "<div>\n",
       "<style scoped>\n",
       "    .dataframe tbody tr th:only-of-type {\n",
       "        vertical-align: middle;\n",
       "    }\n",
       "\n",
       "    .dataframe tbody tr th {\n",
       "        vertical-align: top;\n",
       "    }\n",
       "\n",
       "    .dataframe thead th {\n",
       "        text-align: right;\n",
       "    }\n",
       "</style>\n",
       "<table border=\"1\" class=\"dataframe\">\n",
       "  <thead>\n",
       "    <tr style=\"text-align: right;\">\n",
       "      <th></th>\n",
       "      <th>City</th>\n",
       "      <th>Package</th>\n",
       "      <th>Variety</th>\n",
       "      <th>High Price</th>\n",
       "      <th>Low Price</th>\n",
       "      <th>Price</th>\n",
       "      <th>Date</th>\n",
       "    </tr>\n",
       "  </thead>\n",
       "  <tbody>\n",
       "    <tr>\n",
       "      <th>70</th>\n",
       "      <td>BALTIMORE</td>\n",
       "      <td>1 1/9 bushel cartons</td>\n",
       "      <td>PIE TYPE</td>\n",
       "      <td>15.0</td>\n",
       "      <td>15.0</td>\n",
       "      <td>13.5</td>\n",
       "      <td>9/24/2016</td>\n",
       "    </tr>\n",
       "    <tr>\n",
       "      <th>71</th>\n",
       "      <td>BALTIMORE</td>\n",
       "      <td>1 1/9 bushel cartons</td>\n",
       "      <td>PIE TYPE</td>\n",
       "      <td>18.0</td>\n",
       "      <td>18.0</td>\n",
       "      <td>16.2</td>\n",
       "      <td>9/24/2016</td>\n",
       "    </tr>\n",
       "    <tr>\n",
       "      <th>72</th>\n",
       "      <td>BALTIMORE</td>\n",
       "      <td>1 1/9 bushel cartons</td>\n",
       "      <td>PIE TYPE</td>\n",
       "      <td>18.0</td>\n",
       "      <td>18.0</td>\n",
       "      <td>16.2</td>\n",
       "      <td>10/1/2016</td>\n",
       "    </tr>\n",
       "  </tbody>\n",
       "</table>\n",
       "</div>"
      ],
      "text/plain": [
       "         City               Package   Variety  High Price  Low Price  Price  \\\n",
       "70  BALTIMORE  1 1/9 bushel cartons  PIE TYPE        15.0       15.0   13.5   \n",
       "71  BALTIMORE  1 1/9 bushel cartons  PIE TYPE        18.0       18.0   16.2   \n",
       "72  BALTIMORE  1 1/9 bushel cartons  PIE TYPE        18.0       18.0   16.2   \n",
       "\n",
       "         Date  \n",
       "70  9/24/2016  \n",
       "71  9/24/2016  \n",
       "72  10/1/2016  "
      ]
     },
     "execution_count": 14,
     "metadata": {},
     "output_type": "execute_result"
    }
   ],
   "source": [
    "new_data.head(3)\n"
   ]
  },
  {
   "cell_type": "code",
   "execution_count": 15,
   "id": "79766d5c-9c8c-4ba5-970f-d0d41c973c9b",
   "metadata": {},
   "outputs": [],
   "source": [
    "new_data['Month']=pd.to_datetime(new_data['Date']).dt.month\n",
    "\n",
    "new_data['year']=pd.to_datetime(new_data['Date']).dt.year"
   ]
  },
  {
   "cell_type": "code",
   "execution_count": 16,
   "id": "83967fc7-d220-40ab-bbc7-58161d8dfe98",
   "metadata": {},
   "outputs": [
    {
     "data": {
      "text/html": [
       "<div>\n",
       "<style scoped>\n",
       "    .dataframe tbody tr th:only-of-type {\n",
       "        vertical-align: middle;\n",
       "    }\n",
       "\n",
       "    .dataframe tbody tr th {\n",
       "        vertical-align: top;\n",
       "    }\n",
       "\n",
       "    .dataframe thead th {\n",
       "        text-align: right;\n",
       "    }\n",
       "</style>\n",
       "<table border=\"1\" class=\"dataframe\">\n",
       "  <thead>\n",
       "    <tr style=\"text-align: right;\">\n",
       "      <th></th>\n",
       "      <th>City</th>\n",
       "      <th>Package</th>\n",
       "      <th>Variety</th>\n",
       "      <th>High Price</th>\n",
       "      <th>Low Price</th>\n",
       "      <th>Price</th>\n",
       "      <th>Date</th>\n",
       "      <th>Month</th>\n",
       "      <th>year</th>\n",
       "    </tr>\n",
       "  </thead>\n",
       "  <tbody>\n",
       "    <tr>\n",
       "      <th>70</th>\n",
       "      <td>BALTIMORE</td>\n",
       "      <td>1 1/9 bushel cartons</td>\n",
       "      <td>PIE TYPE</td>\n",
       "      <td>15.0</td>\n",
       "      <td>15.0</td>\n",
       "      <td>13.5</td>\n",
       "      <td>9/24/2016</td>\n",
       "      <td>9</td>\n",
       "      <td>2016</td>\n",
       "    </tr>\n",
       "    <tr>\n",
       "      <th>71</th>\n",
       "      <td>BALTIMORE</td>\n",
       "      <td>1 1/9 bushel cartons</td>\n",
       "      <td>PIE TYPE</td>\n",
       "      <td>18.0</td>\n",
       "      <td>18.0</td>\n",
       "      <td>16.2</td>\n",
       "      <td>9/24/2016</td>\n",
       "      <td>9</td>\n",
       "      <td>2016</td>\n",
       "    </tr>\n",
       "    <tr>\n",
       "      <th>72</th>\n",
       "      <td>BALTIMORE</td>\n",
       "      <td>1 1/9 bushel cartons</td>\n",
       "      <td>PIE TYPE</td>\n",
       "      <td>18.0</td>\n",
       "      <td>18.0</td>\n",
       "      <td>16.2</td>\n",
       "      <td>10/1/2016</td>\n",
       "      <td>10</td>\n",
       "      <td>2016</td>\n",
       "    </tr>\n",
       "    <tr>\n",
       "      <th>73</th>\n",
       "      <td>BALTIMORE</td>\n",
       "      <td>1 1/9 bushel cartons</td>\n",
       "      <td>PIE TYPE</td>\n",
       "      <td>17.0</td>\n",
       "      <td>17.0</td>\n",
       "      <td>15.3</td>\n",
       "      <td>10/1/2016</td>\n",
       "      <td>10</td>\n",
       "      <td>2016</td>\n",
       "    </tr>\n",
       "    <tr>\n",
       "      <th>74</th>\n",
       "      <td>BALTIMORE</td>\n",
       "      <td>1 1/9 bushel cartons</td>\n",
       "      <td>PIE TYPE</td>\n",
       "      <td>15.0</td>\n",
       "      <td>15.0</td>\n",
       "      <td>13.5</td>\n",
       "      <td>10/8/2016</td>\n",
       "      <td>10</td>\n",
       "      <td>2016</td>\n",
       "    </tr>\n",
       "  </tbody>\n",
       "</table>\n",
       "</div>"
      ],
      "text/plain": [
       "         City               Package   Variety  High Price  Low Price  Price  \\\n",
       "70  BALTIMORE  1 1/9 bushel cartons  PIE TYPE        15.0       15.0   13.5   \n",
       "71  BALTIMORE  1 1/9 bushel cartons  PIE TYPE        18.0       18.0   16.2   \n",
       "72  BALTIMORE  1 1/9 bushel cartons  PIE TYPE        18.0       18.0   16.2   \n",
       "73  BALTIMORE  1 1/9 bushel cartons  PIE TYPE        17.0       17.0   15.3   \n",
       "74  BALTIMORE  1 1/9 bushel cartons  PIE TYPE        15.0       15.0   13.5   \n",
       "\n",
       "         Date  Month  year  \n",
       "70  9/24/2016      9  2016  \n",
       "71  9/24/2016      9  2016  \n",
       "72  10/1/2016     10  2016  \n",
       "73  10/1/2016     10  2016  \n",
       "74  10/8/2016     10  2016  "
      ]
     },
     "execution_count": 16,
     "metadata": {},
     "output_type": "execute_result"
    }
   ],
   "source": [
    "new_data.head()"
   ]
  },
  {
   "cell_type": "code",
   "execution_count": 17,
   "id": "08a80b55-1d29-4c4b-8aa8-976bad1d6a59",
   "metadata": {},
   "outputs": [
    {
     "name": "stdout",
     "output_type": "stream",
     "text": [
      "<class 'pandas.core.frame.DataFrame'>\n",
      "Index: 415 entries, 70 to 1742\n",
      "Data columns (total 9 columns):\n",
      " #   Column      Non-Null Count  Dtype  \n",
      "---  ------      --------------  -----  \n",
      " 0   City        415 non-null    object \n",
      " 1   Package     415 non-null    object \n",
      " 2   Variety     415 non-null    object \n",
      " 3   High Price  415 non-null    float64\n",
      " 4   Low Price   415 non-null    float64\n",
      " 5   Price       415 non-null    float64\n",
      " 6   Date        415 non-null    object \n",
      " 7   Month       415 non-null    int32  \n",
      " 8   year        415 non-null    int32  \n",
      "dtypes: float64(3), int32(2), object(4)\n",
      "memory usage: 45.3+ KB\n"
     ]
    }
   ],
   "source": [
    "new_data.info()"
   ]
  },
  {
   "cell_type": "code",
   "execution_count": 18,
   "id": "c5e52d43-b7ca-4874-8339-ba298bf4983d",
   "metadata": {},
   "outputs": [],
   "source": [
    "from sklearn.preprocessing import OneHotEncoder\n",
    "from sklearn.model_selection import train_test_split\n",
    "from sklearn.linear_model import LinearRegression\n",
    "from sklearn.preprocessing import PolynomialFeatures\n",
    "from sklearn.metrics import mean_squared_error\n",
    "from sklearn.pipeline import make_pipeline"
   ]
  },
  {
   "cell_type": "code",
   "execution_count": 19,
   "id": "9daadcb0-ae19-4fb4-8243-b8d5e543c73b",
   "metadata": {},
   "outputs": [],
   "source": [
    "#ohe=OneHotEncoder(sparse_output=False)"
   ]
  },
  {
   "cell_type": "code",
   "execution_count": 20,
   "id": "be65b52c-7682-421a-801d-c0758695226d",
   "metadata": {},
   "outputs": [],
   "source": [
    "#ohe.set_output(transform='pandas')"
   ]
  },
  {
   "cell_type": "code",
   "execution_count": 21,
   "id": "97999cd4-52a9-4c2e-bbc0-117eaa425132",
   "metadata": {},
   "outputs": [],
   "source": [
    "#ohe_encoded=ohe.fit_transform(new_data[['Variety','City','Package']])"
   ]
  },
  {
   "cell_type": "code",
   "execution_count": 22,
   "id": "fd62a1da-07db-492a-9dd2-deba9faa7107",
   "metadata": {},
   "outputs": [],
   "source": [
    "#ohe_encoded"
   ]
  },
  {
   "cell_type": "code",
   "execution_count": 23,
   "id": "611ff910-0e48-405d-a59f-22ee89fe6b30",
   "metadata": {},
   "outputs": [],
   "source": [
    "from sklearn.preprocessing import LabelEncoder"
   ]
  },
  {
   "cell_type": "code",
   "execution_count": 24,
   "id": "6eb5cdaf-0c4a-4665-9d00-5f14921074d9",
   "metadata": {},
   "outputs": [],
   "source": [
    "label_encoder=LabelEncoder()"
   ]
  },
  {
   "cell_type": "code",
   "execution_count": 25,
   "id": "657210c7-9e32-448f-b1cb-4bf3e5cfc32f",
   "metadata": {},
   "outputs": [],
   "source": [
    "new_data['City']=label_encoder.fit_transform(new_data['City'])"
   ]
  },
  {
   "cell_type": "code",
   "execution_count": 26,
   "id": "68dba182-31c6-45bf-b98c-455d81b1ae7a",
   "metadata": {},
   "outputs": [
    {
     "data": {
      "text/plain": [
       "<bound method Series.unique of 70      1\n",
       "71      1\n",
       "72      1\n",
       "73      1\n",
       "74      1\n",
       "       ..\n",
       "1738    9\n",
       "1739    9\n",
       "1740    9\n",
       "1741    9\n",
       "1742    9\n",
       "Name: City, Length: 415, dtype: int32>"
      ]
     },
     "execution_count": 26,
     "metadata": {},
     "output_type": "execute_result"
    }
   ],
   "source": [
    "new_data['City'].unique"
   ]
  },
  {
   "cell_type": "code",
   "execution_count": 27,
   "id": "31a25c15-dc11-4f04-8cee-9e6cd3d2c95a",
   "metadata": {},
   "outputs": [],
   "source": [
    "new_data['Variety']=label_encoder.fit_transform(new_data['Variety'])"
   ]
  },
  {
   "cell_type": "code",
   "execution_count": 28,
   "id": "7192ba9d-fb4f-4bc3-a9bc-bbb3acd83af5",
   "metadata": {},
   "outputs": [
    {
     "data": {
      "text/plain": [
       "<bound method Series.unique of 70      3\n",
       "71      3\n",
       "72      3\n",
       "73      3\n",
       "74      3\n",
       "       ..\n",
       "1738    1\n",
       "1739    1\n",
       "1740    1\n",
       "1741    1\n",
       "1742    1\n",
       "Name: Variety, Length: 415, dtype: int32>"
      ]
     },
     "execution_count": 28,
     "metadata": {},
     "output_type": "execute_result"
    }
   ],
   "source": [
    "new_data['Variety'].unique"
   ]
  },
  {
   "cell_type": "code",
   "execution_count": 29,
   "id": "2e1bced2-a13e-40fe-8cdb-d74d39097f77",
   "metadata": {},
   "outputs": [],
   "source": [
    "new_data['Package']=label_encoder.fit_transform(new_data['Package'])"
   ]
  },
  {
   "cell_type": "code",
   "execution_count": 30,
   "id": "99402ec0-bba6-48f0-8737-42e8d6d86c01",
   "metadata": {},
   "outputs": [
    {
     "data": {
      "text/plain": [
       "<bound method Series.unique of 70      0\n",
       "71      0\n",
       "72      0\n",
       "73      0\n",
       "74      0\n",
       "       ..\n",
       "1738    2\n",
       "1739    2\n",
       "1740    2\n",
       "1741    2\n",
       "1742    2\n",
       "Name: Package, Length: 415, dtype: int32>"
      ]
     },
     "execution_count": 30,
     "metadata": {},
     "output_type": "execute_result"
    }
   ],
   "source": [
    "new_data['Package'].unique"
   ]
  },
  {
   "cell_type": "code",
   "execution_count": 31,
   "id": "b2b23dea-a8c8-45ac-8cd6-b9dea7e0cff9",
   "metadata": {},
   "outputs": [
    {
     "data": {
      "text/html": [
       "<div>\n",
       "<style scoped>\n",
       "    .dataframe tbody tr th:only-of-type {\n",
       "        vertical-align: middle;\n",
       "    }\n",
       "\n",
       "    .dataframe tbody tr th {\n",
       "        vertical-align: top;\n",
       "    }\n",
       "\n",
       "    .dataframe thead th {\n",
       "        text-align: right;\n",
       "    }\n",
       "</style>\n",
       "<table border=\"1\" class=\"dataframe\">\n",
       "  <thead>\n",
       "    <tr style=\"text-align: right;\">\n",
       "      <th></th>\n",
       "      <th>City</th>\n",
       "      <th>Package</th>\n",
       "      <th>Variety</th>\n",
       "      <th>High Price</th>\n",
       "      <th>Low Price</th>\n",
       "      <th>Price</th>\n",
       "      <th>Date</th>\n",
       "      <th>Month</th>\n",
       "      <th>year</th>\n",
       "    </tr>\n",
       "  </thead>\n",
       "  <tbody>\n",
       "    <tr>\n",
       "      <th>70</th>\n",
       "      <td>1</td>\n",
       "      <td>0</td>\n",
       "      <td>3</td>\n",
       "      <td>15.0</td>\n",
       "      <td>15.0</td>\n",
       "      <td>13.5</td>\n",
       "      <td>9/24/2016</td>\n",
       "      <td>9</td>\n",
       "      <td>2016</td>\n",
       "    </tr>\n",
       "    <tr>\n",
       "      <th>71</th>\n",
       "      <td>1</td>\n",
       "      <td>0</td>\n",
       "      <td>3</td>\n",
       "      <td>18.0</td>\n",
       "      <td>18.0</td>\n",
       "      <td>16.2</td>\n",
       "      <td>9/24/2016</td>\n",
       "      <td>9</td>\n",
       "      <td>2016</td>\n",
       "    </tr>\n",
       "    <tr>\n",
       "      <th>72</th>\n",
       "      <td>1</td>\n",
       "      <td>0</td>\n",
       "      <td>3</td>\n",
       "      <td>18.0</td>\n",
       "      <td>18.0</td>\n",
       "      <td>16.2</td>\n",
       "      <td>10/1/2016</td>\n",
       "      <td>10</td>\n",
       "      <td>2016</td>\n",
       "    </tr>\n",
       "    <tr>\n",
       "      <th>73</th>\n",
       "      <td>1</td>\n",
       "      <td>0</td>\n",
       "      <td>3</td>\n",
       "      <td>17.0</td>\n",
       "      <td>17.0</td>\n",
       "      <td>15.3</td>\n",
       "      <td>10/1/2016</td>\n",
       "      <td>10</td>\n",
       "      <td>2016</td>\n",
       "    </tr>\n",
       "    <tr>\n",
       "      <th>74</th>\n",
       "      <td>1</td>\n",
       "      <td>0</td>\n",
       "      <td>3</td>\n",
       "      <td>15.0</td>\n",
       "      <td>15.0</td>\n",
       "      <td>13.5</td>\n",
       "      <td>10/8/2016</td>\n",
       "      <td>10</td>\n",
       "      <td>2016</td>\n",
       "    </tr>\n",
       "  </tbody>\n",
       "</table>\n",
       "</div>"
      ],
      "text/plain": [
       "    City  Package  Variety  High Price  Low Price  Price       Date  Month  \\\n",
       "70     1        0        3        15.0       15.0   13.5  9/24/2016      9   \n",
       "71     1        0        3        18.0       18.0   16.2  9/24/2016      9   \n",
       "72     1        0        3        18.0       18.0   16.2  10/1/2016     10   \n",
       "73     1        0        3        17.0       17.0   15.3  10/1/2016     10   \n",
       "74     1        0        3        15.0       15.0   13.5  10/8/2016     10   \n",
       "\n",
       "    year  \n",
       "70  2016  \n",
       "71  2016  \n",
       "72  2016  \n",
       "73  2016  \n",
       "74  2016  "
      ]
     },
     "execution_count": 31,
     "metadata": {},
     "output_type": "execute_result"
    }
   ],
   "source": [
    "new_data.head()"
   ]
  },
  {
   "cell_type": "code",
   "execution_count": 32,
   "id": "3e35ef6d-22bc-4046-9be8-5e4c15357b23",
   "metadata": {},
   "outputs": [],
   "source": [
    "X=new_data.drop(['Price','Date','High Price','Low Price'],axis='columns')"
   ]
  },
  {
   "cell_type": "code",
   "execution_count": 33,
   "id": "347735da-b0d7-4efc-8955-d70c27d15a38",
   "metadata": {},
   "outputs": [
    {
     "name": "stdout",
     "output_type": "stream",
     "text": [
      "<class 'pandas.core.frame.DataFrame'>\n",
      "Index: 415 entries, 70 to 1742\n",
      "Data columns (total 5 columns):\n",
      " #   Column   Non-Null Count  Dtype\n",
      "---  ------   --------------  -----\n",
      " 0   City     415 non-null    int32\n",
      " 1   Package  415 non-null    int32\n",
      " 2   Variety  415 non-null    int32\n",
      " 3   Month    415 non-null    int32\n",
      " 4   year     415 non-null    int32\n",
      "dtypes: int32(5)\n",
      "memory usage: 27.5 KB\n"
     ]
    }
   ],
   "source": [
    "X.info()"
   ]
  },
  {
   "cell_type": "code",
   "execution_count": 34,
   "id": "80d5edbd-b3ff-4f2a-9223-d38947c45305",
   "metadata": {},
   "outputs": [],
   "source": [
    "y=new_data['Price']"
   ]
  },
  {
   "cell_type": "code",
   "execution_count": 35,
   "id": "73bc736c-3db9-4c10-bfb3-1a0cd74efe54",
   "metadata": {},
   "outputs": [],
   "source": [
    "X_train,X_test,y_train,y_test=train_test_split(X,y,random_state=0,test_size=0.5)"
   ]
  },
  {
   "cell_type": "code",
   "execution_count": 36,
   "id": "a2b155cf-c568-40e4-b6c3-b83be57d16b9",
   "metadata": {},
   "outputs": [
    {
     "name": "stdout",
     "output_type": "stream",
     "text": [
      "(207, 5)\n",
      "(207,)\n",
      "(208, 5)\n",
      "(208,)\n"
     ]
    }
   ],
   "source": [
    "print(X_train.shape)\n",
    "print(y_train.shape)\n",
    "print(X_test.shape)\n",
    "print(y_test.shape)"
   ]
  },
  {
   "cell_type": "code",
   "execution_count": 37,
   "id": "626e858b-6e9c-495a-909d-a48e468465dd",
   "metadata": {},
   "outputs": [],
   "source": [
    "pipeline=make_pipeline(PolynomialFeatures(2),LinearRegression())"
   ]
  },
  {
   "cell_type": "code",
   "execution_count": 38,
   "id": "d4f24a28-64ec-415c-b9db-a1bf86fe8a10",
   "metadata": {},
   "outputs": [
    {
     "data": {
      "text/html": [
       "<style>#sk-container-id-1 {color: black;}#sk-container-id-1 pre{padding: 0;}#sk-container-id-1 div.sk-toggleable {background-color: white;}#sk-container-id-1 label.sk-toggleable__label {cursor: pointer;display: block;width: 100%;margin-bottom: 0;padding: 0.3em;box-sizing: border-box;text-align: center;}#sk-container-id-1 label.sk-toggleable__label-arrow:before {content: \"▸\";float: left;margin-right: 0.25em;color: #696969;}#sk-container-id-1 label.sk-toggleable__label-arrow:hover:before {color: black;}#sk-container-id-1 div.sk-estimator:hover label.sk-toggleable__label-arrow:before {color: black;}#sk-container-id-1 div.sk-toggleable__content {max-height: 0;max-width: 0;overflow: hidden;text-align: left;background-color: #f0f8ff;}#sk-container-id-1 div.sk-toggleable__content pre {margin: 0.2em;color: black;border-radius: 0.25em;background-color: #f0f8ff;}#sk-container-id-1 input.sk-toggleable__control:checked~div.sk-toggleable__content {max-height: 200px;max-width: 100%;overflow: auto;}#sk-container-id-1 input.sk-toggleable__control:checked~label.sk-toggleable__label-arrow:before {content: \"▾\";}#sk-container-id-1 div.sk-estimator input.sk-toggleable__control:checked~label.sk-toggleable__label {background-color: #d4ebff;}#sk-container-id-1 div.sk-label input.sk-toggleable__control:checked~label.sk-toggleable__label {background-color: #d4ebff;}#sk-container-id-1 input.sk-hidden--visually {border: 0;clip: rect(1px 1px 1px 1px);clip: rect(1px, 1px, 1px, 1px);height: 1px;margin: -1px;overflow: hidden;padding: 0;position: absolute;width: 1px;}#sk-container-id-1 div.sk-estimator {font-family: monospace;background-color: #f0f8ff;border: 1px dotted black;border-radius: 0.25em;box-sizing: border-box;margin-bottom: 0.5em;}#sk-container-id-1 div.sk-estimator:hover {background-color: #d4ebff;}#sk-container-id-1 div.sk-parallel-item::after {content: \"\";width: 100%;border-bottom: 1px solid gray;flex-grow: 1;}#sk-container-id-1 div.sk-label:hover label.sk-toggleable__label {background-color: #d4ebff;}#sk-container-id-1 div.sk-serial::before {content: \"\";position: absolute;border-left: 1px solid gray;box-sizing: border-box;top: 0;bottom: 0;left: 50%;z-index: 0;}#sk-container-id-1 div.sk-serial {display: flex;flex-direction: column;align-items: center;background-color: white;padding-right: 0.2em;padding-left: 0.2em;position: relative;}#sk-container-id-1 div.sk-item {position: relative;z-index: 1;}#sk-container-id-1 div.sk-parallel {display: flex;align-items: stretch;justify-content: center;background-color: white;position: relative;}#sk-container-id-1 div.sk-item::before, #sk-container-id-1 div.sk-parallel-item::before {content: \"\";position: absolute;border-left: 1px solid gray;box-sizing: border-box;top: 0;bottom: 0;left: 50%;z-index: -1;}#sk-container-id-1 div.sk-parallel-item {display: flex;flex-direction: column;z-index: 1;position: relative;background-color: white;}#sk-container-id-1 div.sk-parallel-item:first-child::after {align-self: flex-end;width: 50%;}#sk-container-id-1 div.sk-parallel-item:last-child::after {align-self: flex-start;width: 50%;}#sk-container-id-1 div.sk-parallel-item:only-child::after {width: 0;}#sk-container-id-1 div.sk-dashed-wrapped {border: 1px dashed gray;margin: 0 0.4em 0.5em 0.4em;box-sizing: border-box;padding-bottom: 0.4em;background-color: white;}#sk-container-id-1 div.sk-label label {font-family: monospace;font-weight: bold;display: inline-block;line-height: 1.2em;}#sk-container-id-1 div.sk-label-container {text-align: center;}#sk-container-id-1 div.sk-container {/* jupyter's `normalize.less` sets `[hidden] { display: none; }` but bootstrap.min.css set `[hidden] { display: none !important; }` so we also need the `!important` here to be able to override the default hidden behavior on the sphinx rendered scikit-learn.org. See: https://github.com/scikit-learn/scikit-learn/issues/21755 */display: inline-block !important;position: relative;}#sk-container-id-1 div.sk-text-repr-fallback {display: none;}</style><div id=\"sk-container-id-1\" class=\"sk-top-container\"><div class=\"sk-text-repr-fallback\"><pre>Pipeline(steps=[(&#x27;polynomialfeatures&#x27;, PolynomialFeatures()),\n",
       "                (&#x27;linearregression&#x27;, LinearRegression())])</pre><b>In a Jupyter environment, please rerun this cell to show the HTML representation or trust the notebook. <br />On GitHub, the HTML representation is unable to render, please try loading this page with nbviewer.org.</b></div><div class=\"sk-container\" hidden><div class=\"sk-item sk-dashed-wrapped\"><div class=\"sk-label-container\"><div class=\"sk-label sk-toggleable\"><input class=\"sk-toggleable__control sk-hidden--visually\" id=\"sk-estimator-id-1\" type=\"checkbox\" ><label for=\"sk-estimator-id-1\" class=\"sk-toggleable__label sk-toggleable__label-arrow\">Pipeline</label><div class=\"sk-toggleable__content\"><pre>Pipeline(steps=[(&#x27;polynomialfeatures&#x27;, PolynomialFeatures()),\n",
       "                (&#x27;linearregression&#x27;, LinearRegression())])</pre></div></div></div><div class=\"sk-serial\"><div class=\"sk-item\"><div class=\"sk-estimator sk-toggleable\"><input class=\"sk-toggleable__control sk-hidden--visually\" id=\"sk-estimator-id-2\" type=\"checkbox\" ><label for=\"sk-estimator-id-2\" class=\"sk-toggleable__label sk-toggleable__label-arrow\">PolynomialFeatures</label><div class=\"sk-toggleable__content\"><pre>PolynomialFeatures()</pre></div></div></div><div class=\"sk-item\"><div class=\"sk-estimator sk-toggleable\"><input class=\"sk-toggleable__control sk-hidden--visually\" id=\"sk-estimator-id-3\" type=\"checkbox\" ><label for=\"sk-estimator-id-3\" class=\"sk-toggleable__label sk-toggleable__label-arrow\">LinearRegression</label><div class=\"sk-toggleable__content\"><pre>LinearRegression()</pre></div></div></div></div></div></div></div>"
      ],
      "text/plain": [
       "Pipeline(steps=[('polynomialfeatures', PolynomialFeatures()),\n",
       "                ('linearregression', LinearRegression())])"
      ]
     },
     "execution_count": 38,
     "metadata": {},
     "output_type": "execute_result"
    }
   ],
   "source": [
    "pipeline.fit(X_train,y_train)"
   ]
  },
  {
   "cell_type": "code",
   "execution_count": 39,
   "id": "cb67a1e2-3fe4-4157-b99b-b6f18b7dc2ba",
   "metadata": {},
   "outputs": [
    {
     "name": "stdout",
     "output_type": "stream",
     "text": [
      "model_score: 0.8571110039111258\n"
     ]
    }
   ],
   "source": [
    "model_score=pipeline.score(X_train,y_train)\n",
    "print('model_score:',model_score)"
   ]
  },
  {
   "cell_type": "code",
   "execution_count": 40,
   "id": "fcb39e29-2f9e-4998-b4af-23ab1cb42c52",
   "metadata": {},
   "outputs": [],
   "source": [
    "predictions=pipeline.predict(X_test)"
   ]
  },
  {
   "cell_type": "code",
   "execution_count": 41,
   "id": "cd0d4568-b6a3-4904-9ad5-3b7020ed85ae",
   "metadata": {},
   "outputs": [
    {
     "name": "stdout",
     "output_type": "stream",
     "text": [
      "Predicted labels:  [38.26299501 14.266914   15.1079687  20.04050513 28.54828012 28.54828012\n",
      " 14.266914   14.97240049 16.67696262 35.41853155 36.40351717 31.81637673\n",
      " 30.84133573 33.43216114 36.40351717 15.12580843 15.08294421 14.83252453\n",
      " 14.97240049 33.43216114 36.40351717 32.5528855  38.26299501 12.55170194\n",
      " 14.84799543 17.78023628 33.43216114 35.41853155 15.08294421 36.89380297\n",
      " 41.23850076 33.93807041 32.68365468 14.97240049 31.151029   36.40351717\n",
      " 35.08243186 14.84799543 20.62143082 35.41853155 38.26299501 14.88037203\n",
      " 31.151029   40.84293067 35.08243186 16.86799664 34.74716728 35.72088403\n",
      " 31.81637673 19.19398406 30.84133573 14.97240049 16.07529652 36.89380297\n",
      " 14.84799543 31.151029   35.08243186 14.83252453 33.93807041 31.151029\n",
      " 33.43216114 23.07260258 34.74716728 14.83252453 14.83252453 33.43216114\n",
      " 33.53698166 32.5528855  32.5528855  33.53698166 14.83252453 14.97240049\n",
      " 34.74716728 36.40351717 14.83252453 31.936373   14.97240049 34.74716728\n",
      " 36.89380297 32.97043284 14.97240049 16.67696262 22.14529287 35.08243186\n",
      " 16.67696262 28.54828012 14.84799543 14.97240049 14.95406784 32.66065867\n",
      " 31.151029   32.97043284 18.50101645 32.45458315 12.55170194 35.41853155\n",
      " 36.40351717 33.93807041 16.86799664 33.93807041 35.67645986 38.26299501\n",
      " 34.74716728 30.84133573 30.84133573 33.9798466  12.55170194 14.97240049\n",
      " 36.89380297 16.86799664 16.86799664 14.95406784 31.151029   16.86799664\n",
      " 32.97043284 35.41853155 31.81637673 31.36581519 14.84799543 35.08243186\n",
      " 41.23850076 14.88037203 32.97043284 40.84293067 30.84133573 35.08243186\n",
      " 32.97043284 17.78023628 17.31505953 33.93807041 33.43216114 41.23850076\n",
      " 35.41853155 32.97043284 33.93807041 33.43216114 31.14680774 16.86799664\n",
      " 33.9798466  22.14529287 31.151029   34.74716728 14.84799543 32.97043284\n",
      " 17.23575453 33.9798466  36.40351717 16.67696262 14.84799543 34.74716728\n",
      " 34.74716728 32.5528855  32.97043284 14.86937244 32.66065867 33.43216114\n",
      " 35.41853155 35.72088403 32.66065867 36.40351717 14.22050131 30.84133573\n",
      " 32.97043284 31.936373   14.84799543 15.08294421 14.83252453 33.43216114\n",
      " 36.89380297 35.08243186 14.83252453 32.5528855  30.84133573 14.83252453\n",
      " 32.5528855  19.05951404 32.97043284 14.0383833  31.81637673 14.84799543\n",
      " 34.74716728 17.23575453 30.84133573 30.84133573 33.93807041 31.936373\n",
      " 32.97043284 28.54828012 33.53698166 30.97198125 36.40351717 33.93807041\n",
      " 20.62143082 14.84799543 30.84133573 17.0297851  15.1079687  32.5528855\n",
      " 32.28792336 35.08243186 14.95406784 32.5528855  36.40351717 36.40351717\n",
      " 32.5528855  14.97240049 33.93807041 16.86799664]\n"
     ]
    }
   ],
   "source": [
    "print('Predicted labels: ', predictions)"
   ]
  },
  {
   "cell_type": "code",
   "execution_count": 42,
   "id": "0a131dc3-ad97-4d5c-9bfe-0069318d5c20",
   "metadata": {},
   "outputs": [],
   "source": [
    "lin_reg=LinearRegression()"
   ]
  },
  {
   "cell_type": "code",
   "execution_count": 43,
   "id": "2341613e-fb7a-4e5d-a6ab-79f21105d4b4",
   "metadata": {},
   "outputs": [
    {
     "data": {
      "text/html": [
       "<style>#sk-container-id-2 {color: black;}#sk-container-id-2 pre{padding: 0;}#sk-container-id-2 div.sk-toggleable {background-color: white;}#sk-container-id-2 label.sk-toggleable__label {cursor: pointer;display: block;width: 100%;margin-bottom: 0;padding: 0.3em;box-sizing: border-box;text-align: center;}#sk-container-id-2 label.sk-toggleable__label-arrow:before {content: \"▸\";float: left;margin-right: 0.25em;color: #696969;}#sk-container-id-2 label.sk-toggleable__label-arrow:hover:before {color: black;}#sk-container-id-2 div.sk-estimator:hover label.sk-toggleable__label-arrow:before {color: black;}#sk-container-id-2 div.sk-toggleable__content {max-height: 0;max-width: 0;overflow: hidden;text-align: left;background-color: #f0f8ff;}#sk-container-id-2 div.sk-toggleable__content pre {margin: 0.2em;color: black;border-radius: 0.25em;background-color: #f0f8ff;}#sk-container-id-2 input.sk-toggleable__control:checked~div.sk-toggleable__content {max-height: 200px;max-width: 100%;overflow: auto;}#sk-container-id-2 input.sk-toggleable__control:checked~label.sk-toggleable__label-arrow:before {content: \"▾\";}#sk-container-id-2 div.sk-estimator input.sk-toggleable__control:checked~label.sk-toggleable__label {background-color: #d4ebff;}#sk-container-id-2 div.sk-label input.sk-toggleable__control:checked~label.sk-toggleable__label {background-color: #d4ebff;}#sk-container-id-2 input.sk-hidden--visually {border: 0;clip: rect(1px 1px 1px 1px);clip: rect(1px, 1px, 1px, 1px);height: 1px;margin: -1px;overflow: hidden;padding: 0;position: absolute;width: 1px;}#sk-container-id-2 div.sk-estimator {font-family: monospace;background-color: #f0f8ff;border: 1px dotted black;border-radius: 0.25em;box-sizing: border-box;margin-bottom: 0.5em;}#sk-container-id-2 div.sk-estimator:hover {background-color: #d4ebff;}#sk-container-id-2 div.sk-parallel-item::after {content: \"\";width: 100%;border-bottom: 1px solid gray;flex-grow: 1;}#sk-container-id-2 div.sk-label:hover label.sk-toggleable__label {background-color: #d4ebff;}#sk-container-id-2 div.sk-serial::before {content: \"\";position: absolute;border-left: 1px solid gray;box-sizing: border-box;top: 0;bottom: 0;left: 50%;z-index: 0;}#sk-container-id-2 div.sk-serial {display: flex;flex-direction: column;align-items: center;background-color: white;padding-right: 0.2em;padding-left: 0.2em;position: relative;}#sk-container-id-2 div.sk-item {position: relative;z-index: 1;}#sk-container-id-2 div.sk-parallel {display: flex;align-items: stretch;justify-content: center;background-color: white;position: relative;}#sk-container-id-2 div.sk-item::before, #sk-container-id-2 div.sk-parallel-item::before {content: \"\";position: absolute;border-left: 1px solid gray;box-sizing: border-box;top: 0;bottom: 0;left: 50%;z-index: -1;}#sk-container-id-2 div.sk-parallel-item {display: flex;flex-direction: column;z-index: 1;position: relative;background-color: white;}#sk-container-id-2 div.sk-parallel-item:first-child::after {align-self: flex-end;width: 50%;}#sk-container-id-2 div.sk-parallel-item:last-child::after {align-self: flex-start;width: 50%;}#sk-container-id-2 div.sk-parallel-item:only-child::after {width: 0;}#sk-container-id-2 div.sk-dashed-wrapped {border: 1px dashed gray;margin: 0 0.4em 0.5em 0.4em;box-sizing: border-box;padding-bottom: 0.4em;background-color: white;}#sk-container-id-2 div.sk-label label {font-family: monospace;font-weight: bold;display: inline-block;line-height: 1.2em;}#sk-container-id-2 div.sk-label-container {text-align: center;}#sk-container-id-2 div.sk-container {/* jupyter's `normalize.less` sets `[hidden] { display: none; }` but bootstrap.min.css set `[hidden] { display: none !important; }` so we also need the `!important` here to be able to override the default hidden behavior on the sphinx rendered scikit-learn.org. See: https://github.com/scikit-learn/scikit-learn/issues/21755 */display: inline-block !important;position: relative;}#sk-container-id-2 div.sk-text-repr-fallback {display: none;}</style><div id=\"sk-container-id-2\" class=\"sk-top-container\"><div class=\"sk-text-repr-fallback\"><pre>LinearRegression()</pre><b>In a Jupyter environment, please rerun this cell to show the HTML representation or trust the notebook. <br />On GitHub, the HTML representation is unable to render, please try loading this page with nbviewer.org.</b></div><div class=\"sk-container\" hidden><div class=\"sk-item\"><div class=\"sk-estimator sk-toggleable\"><input class=\"sk-toggleable__control sk-hidden--visually\" id=\"sk-estimator-id-4\" type=\"checkbox\" checked><label for=\"sk-estimator-id-4\" class=\"sk-toggleable__label sk-toggleable__label-arrow\">LinearRegression</label><div class=\"sk-toggleable__content\"><pre>LinearRegression()</pre></div></div></div></div></div>"
      ],
      "text/plain": [
       "LinearRegression()"
      ]
     },
     "execution_count": 43,
     "metadata": {},
     "output_type": "execute_result"
    }
   ],
   "source": [
    "lin_reg.fit(X_train,y_train)"
   ]
  },
  {
   "cell_type": "code",
   "execution_count": 44,
   "id": "21ffc091-32cd-4f9f-9563-076ad0632748",
   "metadata": {},
   "outputs": [
    {
     "data": {
      "text/plain": [
       "array([35.24654724, 17.88708282, 17.44322482, 20.67076706, 33.26531528,\n",
       "       33.26531528, 17.88708282, 13.8905134 , 15.83982428, 34.97598461,\n",
       "       34.66568377, 40.57975664, 33.48690408, 32.61692122, 34.66568377,\n",
       "       12.71173371, 16.34902846, 14.71001842, 13.8905134 , 32.61692122,\n",
       "       34.66568377, 31.7974162 , 35.24654724, 15.06929309, 16.29855062,\n",
       "       18.29833934, 32.61692122, 34.97598461, 16.34902846, 35.79548963,\n",
       "       36.25421597, 33.02667373, 30.61863651, 13.8905134 , 34.18840067,\n",
       "       34.66568377, 33.84617875, 16.29855062, 16.46966158, 34.97598461,\n",
       "       35.24654724, 14.30026591, 34.18840067, 37.19585812, 33.84617875,\n",
       "       16.6593293 , 34.5662321 , 34.25593126, 40.57975664, 25.85142225,\n",
       "       33.48690408, 13.8905134 , 12.3019812 , 35.79548963, 16.29855062,\n",
       "       34.18840067, 33.84617875, 14.71001842, 33.02667373, 34.18840067,\n",
       "       32.61692122, 13.29259718, 34.5662321 , 14.71001842, 14.71001842,\n",
       "       32.61692122, 33.74672708, 31.7974162 , 31.7974162 , 33.74672708,\n",
       "       14.71001842, 13.8905134 , 34.5662321 , 34.66568377, 14.71001842,\n",
       "       31.43814153, 13.8905134 , 34.5662321 , 35.79548963, 32.20716871,\n",
       "       13.8905134 , 15.83982428, 14.88112938, 33.84617875, 15.83982428,\n",
       "       33.26531528, 16.29855062, 13.8905134 , 15.93927595, 33.79570091,\n",
       "       34.18840067, 32.20716871, 18.05819378, 42.16828883, 15.06929309,\n",
       "       34.97598461, 34.66568377, 33.02667373, 16.6593293 , 33.02667373,\n",
       "       34.61670994, 35.24654724, 34.5662321 , 33.48690408, 33.48690408,\n",
       "       34.20545342, 15.06929309, 13.8905134 , 35.79548963, 16.6593293 ,\n",
       "       16.6593293 , 15.93927595, 34.18840067, 16.6593293 , 32.20716871,\n",
       "       34.97598461, 40.57975664, 32.25764655, 16.29855062, 33.84617875,\n",
       "       36.25421597, 14.30026591, 32.20716871, 37.19585812, 33.48690408,\n",
       "       33.84617875, 32.20716871, 18.29833934, 18.57303068, 33.02667373,\n",
       "       32.61692122, 36.25421597, 34.97598461, 32.20716871, 33.02667373,\n",
       "       32.61692122, 32.66739906, 16.6593293 , 34.20545342, 14.88112938,\n",
       "       34.18840067, 34.5662321 , 16.29855062, 32.20716871, 17.47883432,\n",
       "       34.20545342, 34.66568377, 15.83982428, 16.29855062, 34.5662321 ,\n",
       "       34.5662321 , 31.7974162 , 32.20716871, 15.52952344, 33.79570091,\n",
       "       32.61692122, 34.97598461, 34.25593126, 33.79570091, 34.66568377,\n",
       "       13.12148622, 33.48690408, 32.20716871, 31.43814153, 16.29855062,\n",
       "       16.34902846, 14.71001842, 32.61692122, 35.79548963, 33.84617875,\n",
       "       14.71001842, 31.7974162 , 33.48690408, 14.71001842, 31.7974162 ,\n",
       "       19.3925357 , 32.20716871, 15.88879811, 40.57975664, 16.29855062,\n",
       "       34.5662321 , 17.47883432, 33.48690408, 33.48690408, 33.02667373,\n",
       "       31.43814153, 32.20716871, 33.26531528, 33.74672708, 33.07715157,\n",
       "       34.66568377, 33.02667373, 16.46966158, 16.29855062, 33.48690408,\n",
       "       17.06908181, 17.44322482, 31.7974162 , 31.02838902, 33.84617875,\n",
       "       15.93927595, 31.7974162 , 34.66568377, 34.66568377, 31.7974162 ,\n",
       "       13.8905134 , 33.02667373, 16.6593293 ])"
      ]
     },
     "execution_count": 44,
     "metadata": {},
     "output_type": "execute_result"
    }
   ],
   "source": [
    "lin_reg.predict(X_test)"
   ]
  },
  {
   "cell_type": "code",
   "execution_count": 45,
   "id": "63cad643-c342-47d7-ba1f-5aa3b5563a34",
   "metadata": {},
   "outputs": [
    {
     "name": "stdout",
     "output_type": "stream",
     "text": [
      "[16.07529652]\n"
     ]
    },
    {
     "name": "stderr",
     "output_type": "stream",
     "text": [
      "C:\\Users\\USER\\anaconda3\\Lib\\site-packages\\sklearn\\base.py:464: UserWarning: X does not have valid feature names, but PolynomialFeatures was fitted with feature names\n",
      "  warnings.warn(\n"
     ]
    }
   ],
   "source": [
    "print(pipeline.predict([[1,0,3,9,2016]]))"
   ]
  },
  {
   "cell_type": "code",
   "execution_count": 47,
   "id": "fc8f2f80-44da-47d3-a5fb-979372d17856",
   "metadata": {},
   "outputs": [
    {
     "name": "stdout",
     "output_type": "stream",
     "text": [
      "[13.8905134]\n"
     ]
    },
    {
     "name": "stderr",
     "output_type": "stream",
     "text": [
      "C:\\Users\\USER\\anaconda3\\Lib\\site-packages\\sklearn\\base.py:464: UserWarning: X does not have valid feature names, but LinearRegression was fitted with feature names\n",
      "  warnings.warn(\n"
     ]
    }
   ],
   "source": [
    "print(lin_reg.predict([[1,0,3,10,2016]]))"
   ]
  },
  {
   "cell_type": "code",
   "execution_count": 48,
   "id": "501a716e-4324-4570-b4be-2264305b36e6",
   "metadata": {},
   "outputs": [],
   "source": [
    "import pickle"
   ]
  },
  {
   "cell_type": "code",
   "execution_count": 49,
   "id": "374e240e-ad39-4647-a2a7-233832f5f555",
   "metadata": {},
   "outputs": [],
   "source": [
    "model_filename='pumpkin-model.pkl'\n",
    "pickle.dump(pipeline,open(model_filename,'wb'))"
   ]
  },
  {
   "cell_type": "code",
   "execution_count": 51,
   "id": "755a7dd9-c0ae-4f25-aba2-ee76eef3afb9",
   "metadata": {},
   "outputs": [],
   "source": [
    "model=pickle.load(open('pumpkin-model.pkl','rb'))"
   ]
  },
  {
   "cell_type": "code",
   "execution_count": null,
   "id": "62f5ea92-a864-48d8-9299-e57b3b4d79bc",
   "metadata": {},
   "outputs": [],
   "source": []
  }
 ],
 "metadata": {
  "kernelspec": {
   "display_name": "Python 3 (ipykernel)",
   "language": "python",
   "name": "python3"
  },
  "language_info": {
   "codemirror_mode": {
    "name": "ipython",
    "version": 3
   },
   "file_extension": ".py",
   "mimetype": "text/x-python",
   "name": "python",
   "nbconvert_exporter": "python",
   "pygments_lexer": "ipython3",
   "version": "3.11.5"
  }
 },
 "nbformat": 4,
 "nbformat_minor": 5
}
